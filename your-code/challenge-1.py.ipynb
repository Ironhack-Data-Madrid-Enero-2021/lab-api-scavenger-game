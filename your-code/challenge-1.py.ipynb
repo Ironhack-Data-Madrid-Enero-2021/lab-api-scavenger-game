{
 "cells": [
  {
   "cell_type": "code",
   "execution_count": 14,
   "metadata": {},
   "outputs": [],
   "source": [
    "import json\n",
    "import os\n",
    "import requests\n",
    "import pandas as pd"
   ]
  },
  {
   "cell_type": "code",
   "execution_count": 15,
   "metadata": {},
   "outputs": [
    {
     "data": {
      "text/plain": [
       "True"
      ]
     },
     "execution_count": 15,
     "metadata": {},
     "output_type": "execute_result"
    }
   ],
   "source": [
    "from dotenv import load_dotenv\n",
    "load_dotenv()"
   ]
  },
  {
   "cell_type": "markdown",
   "metadata": {},
   "source": [
    "## Challenge 1: Fork Languages\n",
    "\n",
    "You will find out how many programming languages are used among all the forks created from the main lab repo of your bootcamp. Assuming the main lab repo is ironhack-datalabs/datamad1020-rev, you will:\n",
    "\n",
    "1. Obtain the full list of forks created from the main lab repo via Github API.\n",
    "\n",
    "2. Loop the JSON response to find out the language attribute of each fork. Use an array to store the language attributes of each fork.\n",
    "\n",
    "Hint: Each language should appear only once in your array.\n",
    "\n",
    "3. Print the language array. It should be something like:\n",
    "\n",
    "[\"Python\", \"Jupyter Notebook\", \"HTML\"]\n"
   ]
  },
  {
   "cell_type": "markdown",
   "metadata": {},
   "source": [
    "⚠️ **Remember to limit your output before submission**."
   ]
  },
  {
   "cell_type": "code",
   "execution_count": 16,
   "metadata": {},
   "outputs": [],
   "source": [
    "url = \"https://api.github.com/repos/ironhack-datalabs/datamad1020-rev/forks\""
   ]
  },
  {
   "cell_type": "code",
   "execution_count": 17,
   "metadata": {},
   "outputs": [],
   "source": [
    "response = requests.get(url)"
   ]
  },
  {
   "cell_type": "code",
   "execution_count": 18,
   "metadata": {},
   "outputs": [],
   "source": [
    "token = open(\"../archivo.txt\")"
   ]
  },
  {
   "cell_type": "code",
   "execution_count": 19,
   "metadata": {},
   "outputs": [],
   "source": [
    "params = {\"Authorization\": f\"token {token}\"\n",
    "}"
   ]
  },
  {
   "cell_type": "code",
   "execution_count": 335,
   "metadata": {},
   "outputs": [
    {
     "data": {
      "text/plain": [
       "<Response [200]>"
      ]
     },
     "execution_count": 335,
     "metadata": {},
     "output_type": "execute_result"
    }
   ],
   "source": [
    "requests.get(url, params = params)"
   ]
  },
  {
   "cell_type": "code",
   "execution_count": 336,
   "metadata": {},
   "outputs": [],
   "source": [
    "data = response.json()"
   ]
  },
  {
   "cell_type": "code",
   "execution_count": 337,
   "metadata": {},
   "outputs": [
    {
     "data": {
      "text/plain": [
       "22"
      ]
     },
     "execution_count": 337,
     "metadata": {},
     "output_type": "execute_result"
    }
   ],
   "source": [
    "len(data)"
   ]
  },
  {
   "cell_type": "code",
   "execution_count": 338,
   "metadata": {},
   "outputs": [
    {
     "name": "stdout",
     "output_type": "stream",
     "text": [
      "<class 'list'>\n"
     ]
    }
   ],
   "source": [
    "print(type(data))"
   ]
  },
  {
   "cell_type": "code",
   "execution_count": 339,
   "metadata": {},
   "outputs": [
    {
     "data": {
      "text/plain": [
       "{'id': 333169333,\n",
       " 'node_id': 'MDEwOlJlcG9zaXRvcnkzMzMxNjkzMzM=',\n",
       " 'name': 'datamad1020-rev',\n",
       " 'full_name': 'PaolaKarina/datamad1020-rev',\n",
       " 'private': False,\n",
       " 'owner': {'login': 'PaolaKarina',\n",
       "  'id': 72129520,\n",
       "  'node_id': 'MDQ6VXNlcjcyMTI5NTIw',\n",
       "  'avatar_url': 'https://avatars.githubusercontent.com/u/72129520?v=4',\n",
       "  'gravatar_id': '',\n",
       "  'url': 'https://api.github.com/users/PaolaKarina',\n",
       "  'html_url': 'https://github.com/PaolaKarina',\n",
       "  'followers_url': 'https://api.github.com/users/PaolaKarina/followers',\n",
       "  'following_url': 'https://api.github.com/users/PaolaKarina/following{/other_user}',\n",
       "  'gists_url': 'https://api.github.com/users/PaolaKarina/gists{/gist_id}',\n",
       "  'starred_url': 'https://api.github.com/users/PaolaKarina/starred{/owner}{/repo}',\n",
       "  'subscriptions_url': 'https://api.github.com/users/PaolaKarina/subscriptions',\n",
       "  'organizations_url': 'https://api.github.com/users/PaolaKarina/orgs',\n",
       "  'repos_url': 'https://api.github.com/users/PaolaKarina/repos',\n",
       "  'events_url': 'https://api.github.com/users/PaolaKarina/events{/privacy}',\n",
       "  'received_events_url': 'https://api.github.com/users/PaolaKarina/received_events',\n",
       "  'type': 'User',\n",
       "  'site_admin': False},\n",
       " 'html_url': 'https://github.com/PaolaKarina/datamad1020-rev',\n",
       " 'description': None,\n",
       " 'fork': True,\n",
       " 'url': 'https://api.github.com/repos/PaolaKarina/datamad1020-rev',\n",
       " 'forks_url': 'https://api.github.com/repos/PaolaKarina/datamad1020-rev/forks',\n",
       " 'keys_url': 'https://api.github.com/repos/PaolaKarina/datamad1020-rev/keys{/key_id}',\n",
       " 'collaborators_url': 'https://api.github.com/repos/PaolaKarina/datamad1020-rev/collaborators{/collaborator}',\n",
       " 'teams_url': 'https://api.github.com/repos/PaolaKarina/datamad1020-rev/teams',\n",
       " 'hooks_url': 'https://api.github.com/repos/PaolaKarina/datamad1020-rev/hooks',\n",
       " 'issue_events_url': 'https://api.github.com/repos/PaolaKarina/datamad1020-rev/issues/events{/number}',\n",
       " 'events_url': 'https://api.github.com/repos/PaolaKarina/datamad1020-rev/events',\n",
       " 'assignees_url': 'https://api.github.com/repos/PaolaKarina/datamad1020-rev/assignees{/user}',\n",
       " 'branches_url': 'https://api.github.com/repos/PaolaKarina/datamad1020-rev/branches{/branch}',\n",
       " 'tags_url': 'https://api.github.com/repos/PaolaKarina/datamad1020-rev/tags',\n",
       " 'blobs_url': 'https://api.github.com/repos/PaolaKarina/datamad1020-rev/git/blobs{/sha}',\n",
       " 'git_tags_url': 'https://api.github.com/repos/PaolaKarina/datamad1020-rev/git/tags{/sha}',\n",
       " 'git_refs_url': 'https://api.github.com/repos/PaolaKarina/datamad1020-rev/git/refs{/sha}',\n",
       " 'trees_url': 'https://api.github.com/repos/PaolaKarina/datamad1020-rev/git/trees{/sha}',\n",
       " 'statuses_url': 'https://api.github.com/repos/PaolaKarina/datamad1020-rev/statuses/{sha}',\n",
       " 'languages_url': 'https://api.github.com/repos/PaolaKarina/datamad1020-rev/languages',\n",
       " 'stargazers_url': 'https://api.github.com/repos/PaolaKarina/datamad1020-rev/stargazers',\n",
       " 'contributors_url': 'https://api.github.com/repos/PaolaKarina/datamad1020-rev/contributors',\n",
       " 'subscribers_url': 'https://api.github.com/repos/PaolaKarina/datamad1020-rev/subscribers',\n",
       " 'subscription_url': 'https://api.github.com/repos/PaolaKarina/datamad1020-rev/subscription',\n",
       " 'commits_url': 'https://api.github.com/repos/PaolaKarina/datamad1020-rev/commits{/sha}',\n",
       " 'git_commits_url': 'https://api.github.com/repos/PaolaKarina/datamad1020-rev/git/commits{/sha}',\n",
       " 'comments_url': 'https://api.github.com/repos/PaolaKarina/datamad1020-rev/comments{/number}',\n",
       " 'issue_comment_url': 'https://api.github.com/repos/PaolaKarina/datamad1020-rev/issues/comments{/number}',\n",
       " 'contents_url': 'https://api.github.com/repos/PaolaKarina/datamad1020-rev/contents/{+path}',\n",
       " 'compare_url': 'https://api.github.com/repos/PaolaKarina/datamad1020-rev/compare/{base}...{head}',\n",
       " 'merges_url': 'https://api.github.com/repos/PaolaKarina/datamad1020-rev/merges',\n",
       " 'archive_url': 'https://api.github.com/repos/PaolaKarina/datamad1020-rev/{archive_format}{/ref}',\n",
       " 'downloads_url': 'https://api.github.com/repos/PaolaKarina/datamad1020-rev/downloads',\n",
       " 'issues_url': 'https://api.github.com/repos/PaolaKarina/datamad1020-rev/issues{/number}',\n",
       " 'pulls_url': 'https://api.github.com/repos/PaolaKarina/datamad1020-rev/pulls{/number}',\n",
       " 'milestones_url': 'https://api.github.com/repos/PaolaKarina/datamad1020-rev/milestones{/number}',\n",
       " 'notifications_url': 'https://api.github.com/repos/PaolaKarina/datamad1020-rev/notifications{?since,all,participating}',\n",
       " 'labels_url': 'https://api.github.com/repos/PaolaKarina/datamad1020-rev/labels{/name}',\n",
       " 'releases_url': 'https://api.github.com/repos/PaolaKarina/datamad1020-rev/releases{/id}',\n",
       " 'deployments_url': 'https://api.github.com/repos/PaolaKarina/datamad1020-rev/deployments',\n",
       " 'created_at': '2021-01-26T17:54:51Z',\n",
       " 'updated_at': '2021-01-26T17:54:53Z',\n",
       " 'pushed_at': '2021-01-26T13:00:17Z',\n",
       " 'git_url': 'git://github.com/PaolaKarina/datamad1020-rev.git',\n",
       " 'ssh_url': 'git@github.com:PaolaKarina/datamad1020-rev.git',\n",
       " 'clone_url': 'https://github.com/PaolaKarina/datamad1020-rev.git',\n",
       " 'svn_url': 'https://github.com/PaolaKarina/datamad1020-rev',\n",
       " 'homepage': None,\n",
       " 'size': 164263,\n",
       " 'stargazers_count': 0,\n",
       " 'watchers_count': 0,\n",
       " 'language': None,\n",
       " 'has_issues': False,\n",
       " 'has_projects': True,\n",
       " 'has_downloads': True,\n",
       " 'has_wiki': True,\n",
       " 'has_pages': False,\n",
       " 'forks_count': 0,\n",
       " 'mirror_url': None,\n",
       " 'archived': False,\n",
       " 'disabled': False,\n",
       " 'open_issues_count': 0,\n",
       " 'license': {'key': 'agpl-3.0',\n",
       "  'name': 'GNU Affero General Public License v3.0',\n",
       "  'spdx_id': 'AGPL-3.0',\n",
       "  'url': 'https://api.github.com/licenses/agpl-3.0',\n",
       "  'node_id': 'MDc6TGljZW5zZTE='},\n",
       " 'forks': 0,\n",
       " 'open_issues': 0,\n",
       " 'watchers': 0,\n",
       " 'default_branch': 'master'}"
      ]
     },
     "execution_count": 339,
     "metadata": {},
     "output_type": "execute_result"
    }
   ],
   "source": [
    "data[0]"
   ]
  },
  {
   "cell_type": "code",
   "execution_count": 340,
   "metadata": {},
   "outputs": [
    {
     "data": {
      "text/plain": [
       "dict"
      ]
     },
     "execution_count": 340,
     "metadata": {},
     "output_type": "execute_result"
    }
   ],
   "source": [
    "type(data[0])"
   ]
  },
  {
   "cell_type": "code",
   "execution_count": 341,
   "metadata": {},
   "outputs": [],
   "source": [
    "dt = data[0]"
   ]
  },
  {
   "cell_type": "code",
   "execution_count": 342,
   "metadata": {},
   "outputs": [
    {
     "data": {
      "text/plain": [
       "dict_keys(['id', 'node_id', 'name', 'full_name', 'private', 'owner', 'html_url', 'description', 'fork', 'url', 'forks_url', 'keys_url', 'collaborators_url', 'teams_url', 'hooks_url', 'issue_events_url', 'events_url', 'assignees_url', 'branches_url', 'tags_url', 'blobs_url', 'git_tags_url', 'git_refs_url', 'trees_url', 'statuses_url', 'languages_url', 'stargazers_url', 'contributors_url', 'subscribers_url', 'subscription_url', 'commits_url', 'git_commits_url', 'comments_url', 'issue_comment_url', 'contents_url', 'compare_url', 'merges_url', 'archive_url', 'downloads_url', 'issues_url', 'pulls_url', 'milestones_url', 'notifications_url', 'labels_url', 'releases_url', 'deployments_url', 'created_at', 'updated_at', 'pushed_at', 'git_url', 'ssh_url', 'clone_url', 'svn_url', 'homepage', 'size', 'stargazers_count', 'watchers_count', 'language', 'has_issues', 'has_projects', 'has_downloads', 'has_wiki', 'has_pages', 'forks_count', 'mirror_url', 'archived', 'disabled', 'open_issues_count', 'license', 'forks', 'open_issues', 'watchers', 'default_branch'])"
      ]
     },
     "execution_count": 342,
     "metadata": {},
     "output_type": "execute_result"
    }
   ],
   "source": [
    "dt.keys()"
   ]
  },
  {
   "cell_type": "code",
   "execution_count": 343,
   "metadata": {},
   "outputs": [],
   "source": [
    "#language"
   ]
  },
  {
   "cell_type": "code",
   "execution_count": 25,
   "metadata": {},
   "outputs": [],
   "source": [
    "def extrae_nombre(dictionary):\n",
    "    # devuelve el value de la key name del dict\n",
    "    return dictionary.get(\"language\")"
   ]
  },
  {
   "cell_type": "code",
   "execution_count": 345,
   "metadata": {},
   "outputs": [
    {
     "data": {
      "text/plain": [
       "'Jupyter Notebook'"
      ]
     },
     "execution_count": 345,
     "metadata": {},
     "output_type": "execute_result"
    }
   ],
   "source": [
    "x = extrae_nombre(data[10])\n",
    "x"
   ]
  },
  {
   "cell_type": "code",
   "execution_count": 346,
   "metadata": {},
   "outputs": [
    {
     "data": {
      "text/plain": [
       "22"
      ]
     },
     "execution_count": 346,
     "metadata": {},
     "output_type": "execute_result"
    }
   ],
   "source": [
    "len(data)"
   ]
  },
  {
   "cell_type": "code",
   "execution_count": 347,
   "metadata": {},
   "outputs": [
    {
     "name": "stdout",
     "output_type": "stream",
     "text": [
      "{'Jupyter Notebook', None}\n"
     ]
    }
   ],
   "source": [
    "y = [i[\"language\"] for i in data]\n",
    "print(set(y))"
   ]
  },
  {
   "cell_type": "code",
   "execution_count": 349,
   "metadata": {},
   "outputs": [
    {
     "data": {
      "text/plain": [
       "[None,\n",
       " None,\n",
       " 'Jupyter Notebook',\n",
       " 'Jupyter Notebook',\n",
       " 'Jupyter Notebook',\n",
       " 'Jupyter Notebook',\n",
       " 'Jupyter Notebook',\n",
       " 'Jupyter Notebook',\n",
       " 'Jupyter Notebook',\n",
       " 'Jupyter Notebook',\n",
       " 'Jupyter Notebook',\n",
       " 'Jupyter Notebook',\n",
       " 'Jupyter Notebook',\n",
       " 'Jupyter Notebook',\n",
       " 'Jupyter Notebook',\n",
       " 'Jupyter Notebook',\n",
       " 'Jupyter Notebook',\n",
       " 'Jupyter Notebook',\n",
       " 'Jupyter Notebook',\n",
       " 'Jupyter Notebook',\n",
       " 'Jupyter Notebook',\n",
       " 'Jupyter Notebook']"
      ]
     },
     "execution_count": 349,
     "metadata": {},
     "output_type": "execute_result"
    }
   ],
   "source": [
    "y[:22]"
   ]
  },
  {
   "cell_type": "markdown",
   "metadata": {},
   "source": [
    "## Challenge 2: Count Commits\n",
    "\n",
    "Count how many commits were made in the past week.\n",
    "\n",
    "Obtain all the commits made in the past week via API, which is a JSON array that contains multiple commit objects.\n",
    "\n",
    "Count how many commit objects are contained in the array.\n",
    "\n"
   ]
  },
  {
   "cell_type": "markdown",
   "metadata": {},
   "source": [
    "⚠️ **Remember to limit your output before submission**."
   ]
  },
  {
   "cell_type": "code",
   "execution_count": 20,
   "metadata": {},
   "outputs": [],
   "source": [
    "url = \"https://api.github.com/repos/ironhack-datalabs/datamad1020-rev/commits\"\n",
    "res = requests.get(url)\n",
    "token = open(\"../archivo.txt\")\n",
    "params = {\"Authorization\": f\"token {token}\"\n",
    "          \"since: 2021-01-19T00:00:00Z\"\n",
    "          \n",
    "}"
   ]
  },
  {
   "cell_type": "code",
   "execution_count": 21,
   "metadata": {},
   "outputs": [
    {
     "data": {
      "text/plain": [
       "<Response [200]>"
      ]
     },
     "execution_count": 21,
     "metadata": {},
     "output_type": "execute_result"
    }
   ],
   "source": [
    "requests.get(url, params = params)"
   ]
  },
  {
   "cell_type": "code",
   "execution_count": 22,
   "metadata": {},
   "outputs": [],
   "source": [
    "dt = response.json()"
   ]
  },
  {
   "cell_type": "code",
   "execution_count": 396,
   "metadata": {},
   "outputs": [
    {
     "data": {
      "text/plain": [
       "list"
      ]
     },
     "execution_count": 396,
     "metadata": {},
     "output_type": "execute_result"
    }
   ],
   "source": [
    "type(dt)"
   ]
  },
  {
   "cell_type": "code",
   "execution_count": 397,
   "metadata": {
    "scrolled": true
   },
   "outputs": [
    {
     "data": {
      "text/plain": [
       "{'id': 333169333,\n",
       " 'node_id': 'MDEwOlJlcG9zaXRvcnkzMzMxNjkzMzM=',\n",
       " 'name': 'datamad1020-rev',\n",
       " 'full_name': 'PaolaKarina/datamad1020-rev',\n",
       " 'private': False,\n",
       " 'owner': {'login': 'PaolaKarina',\n",
       "  'id': 72129520,\n",
       "  'node_id': 'MDQ6VXNlcjcyMTI5NTIw',\n",
       "  'avatar_url': 'https://avatars.githubusercontent.com/u/72129520?v=4',\n",
       "  'gravatar_id': '',\n",
       "  'url': 'https://api.github.com/users/PaolaKarina',\n",
       "  'html_url': 'https://github.com/PaolaKarina',\n",
       "  'followers_url': 'https://api.github.com/users/PaolaKarina/followers',\n",
       "  'following_url': 'https://api.github.com/users/PaolaKarina/following{/other_user}',\n",
       "  'gists_url': 'https://api.github.com/users/PaolaKarina/gists{/gist_id}',\n",
       "  'starred_url': 'https://api.github.com/users/PaolaKarina/starred{/owner}{/repo}',\n",
       "  'subscriptions_url': 'https://api.github.com/users/PaolaKarina/subscriptions',\n",
       "  'organizations_url': 'https://api.github.com/users/PaolaKarina/orgs',\n",
       "  'repos_url': 'https://api.github.com/users/PaolaKarina/repos',\n",
       "  'events_url': 'https://api.github.com/users/PaolaKarina/events{/privacy}',\n",
       "  'received_events_url': 'https://api.github.com/users/PaolaKarina/received_events',\n",
       "  'type': 'User',\n",
       "  'site_admin': False},\n",
       " 'html_url': 'https://github.com/PaolaKarina/datamad1020-rev',\n",
       " 'description': None,\n",
       " 'fork': True,\n",
       " 'url': 'https://api.github.com/repos/PaolaKarina/datamad1020-rev',\n",
       " 'forks_url': 'https://api.github.com/repos/PaolaKarina/datamad1020-rev/forks',\n",
       " 'keys_url': 'https://api.github.com/repos/PaolaKarina/datamad1020-rev/keys{/key_id}',\n",
       " 'collaborators_url': 'https://api.github.com/repos/PaolaKarina/datamad1020-rev/collaborators{/collaborator}',\n",
       " 'teams_url': 'https://api.github.com/repos/PaolaKarina/datamad1020-rev/teams',\n",
       " 'hooks_url': 'https://api.github.com/repos/PaolaKarina/datamad1020-rev/hooks',\n",
       " 'issue_events_url': 'https://api.github.com/repos/PaolaKarina/datamad1020-rev/issues/events{/number}',\n",
       " 'events_url': 'https://api.github.com/repos/PaolaKarina/datamad1020-rev/events',\n",
       " 'assignees_url': 'https://api.github.com/repos/PaolaKarina/datamad1020-rev/assignees{/user}',\n",
       " 'branches_url': 'https://api.github.com/repos/PaolaKarina/datamad1020-rev/branches{/branch}',\n",
       " 'tags_url': 'https://api.github.com/repos/PaolaKarina/datamad1020-rev/tags',\n",
       " 'blobs_url': 'https://api.github.com/repos/PaolaKarina/datamad1020-rev/git/blobs{/sha}',\n",
       " 'git_tags_url': 'https://api.github.com/repos/PaolaKarina/datamad1020-rev/git/tags{/sha}',\n",
       " 'git_refs_url': 'https://api.github.com/repos/PaolaKarina/datamad1020-rev/git/refs{/sha}',\n",
       " 'trees_url': 'https://api.github.com/repos/PaolaKarina/datamad1020-rev/git/trees{/sha}',\n",
       " 'statuses_url': 'https://api.github.com/repos/PaolaKarina/datamad1020-rev/statuses/{sha}',\n",
       " 'languages_url': 'https://api.github.com/repos/PaolaKarina/datamad1020-rev/languages',\n",
       " 'stargazers_url': 'https://api.github.com/repos/PaolaKarina/datamad1020-rev/stargazers',\n",
       " 'contributors_url': 'https://api.github.com/repos/PaolaKarina/datamad1020-rev/contributors',\n",
       " 'subscribers_url': 'https://api.github.com/repos/PaolaKarina/datamad1020-rev/subscribers',\n",
       " 'subscription_url': 'https://api.github.com/repos/PaolaKarina/datamad1020-rev/subscription',\n",
       " 'commits_url': 'https://api.github.com/repos/PaolaKarina/datamad1020-rev/commits{/sha}',\n",
       " 'git_commits_url': 'https://api.github.com/repos/PaolaKarina/datamad1020-rev/git/commits{/sha}',\n",
       " 'comments_url': 'https://api.github.com/repos/PaolaKarina/datamad1020-rev/comments{/number}',\n",
       " 'issue_comment_url': 'https://api.github.com/repos/PaolaKarina/datamad1020-rev/issues/comments{/number}',\n",
       " 'contents_url': 'https://api.github.com/repos/PaolaKarina/datamad1020-rev/contents/{+path}',\n",
       " 'compare_url': 'https://api.github.com/repos/PaolaKarina/datamad1020-rev/compare/{base}...{head}',\n",
       " 'merges_url': 'https://api.github.com/repos/PaolaKarina/datamad1020-rev/merges',\n",
       " 'archive_url': 'https://api.github.com/repos/PaolaKarina/datamad1020-rev/{archive_format}{/ref}',\n",
       " 'downloads_url': 'https://api.github.com/repos/PaolaKarina/datamad1020-rev/downloads',\n",
       " 'issues_url': 'https://api.github.com/repos/PaolaKarina/datamad1020-rev/issues{/number}',\n",
       " 'pulls_url': 'https://api.github.com/repos/PaolaKarina/datamad1020-rev/pulls{/number}',\n",
       " 'milestones_url': 'https://api.github.com/repos/PaolaKarina/datamad1020-rev/milestones{/number}',\n",
       " 'notifications_url': 'https://api.github.com/repos/PaolaKarina/datamad1020-rev/notifications{?since,all,participating}',\n",
       " 'labels_url': 'https://api.github.com/repos/PaolaKarina/datamad1020-rev/labels{/name}',\n",
       " 'releases_url': 'https://api.github.com/repos/PaolaKarina/datamad1020-rev/releases{/id}',\n",
       " 'deployments_url': 'https://api.github.com/repos/PaolaKarina/datamad1020-rev/deployments',\n",
       " 'created_at': '2021-01-26T17:54:51Z',\n",
       " 'updated_at': '2021-01-26T17:54:53Z',\n",
       " 'pushed_at': '2021-01-26T13:00:17Z',\n",
       " 'git_url': 'git://github.com/PaolaKarina/datamad1020-rev.git',\n",
       " 'ssh_url': 'git@github.com:PaolaKarina/datamad1020-rev.git',\n",
       " 'clone_url': 'https://github.com/PaolaKarina/datamad1020-rev.git',\n",
       " 'svn_url': 'https://github.com/PaolaKarina/datamad1020-rev',\n",
       " 'homepage': None,\n",
       " 'size': 164263,\n",
       " 'stargazers_count': 0,\n",
       " 'watchers_count': 0,\n",
       " 'language': None,\n",
       " 'has_issues': False,\n",
       " 'has_projects': True,\n",
       " 'has_downloads': True,\n",
       " 'has_wiki': True,\n",
       " 'has_pages': False,\n",
       " 'forks_count': 0,\n",
       " 'mirror_url': None,\n",
       " 'archived': False,\n",
       " 'disabled': False,\n",
       " 'open_issues_count': 0,\n",
       " 'license': {'key': 'agpl-3.0',\n",
       "  'name': 'GNU Affero General Public License v3.0',\n",
       "  'spdx_id': 'AGPL-3.0',\n",
       "  'url': 'https://api.github.com/licenses/agpl-3.0',\n",
       "  'node_id': 'MDc6TGljZW5zZTE='},\n",
       " 'forks': 0,\n",
       " 'open_issues': 0,\n",
       " 'watchers': 0,\n",
       " 'default_branch': 'master'}"
      ]
     },
     "execution_count": 397,
     "metadata": {},
     "output_type": "execute_result"
    }
   ],
   "source": [
    "dt[0]"
   ]
  },
  {
   "cell_type": "code",
   "execution_count": 26,
   "metadata": {},
   "outputs": [
    {
     "data": {
      "text/plain": [
       "list"
      ]
     },
     "execution_count": 26,
     "metadata": {},
     "output_type": "execute_result"
    }
   ],
   "source": [
    "type(dt)"
   ]
  },
  {
   "cell_type": "code",
   "execution_count": 30,
   "metadata": {},
   "outputs": [],
   "source": [
    "def extrae_nombre(dictionary):\n",
    "    # devuelve el value de la key name del dict\n",
    "    return dictionary.get(\"commit\")"
   ]
  },
  {
   "cell_type": "code",
   "execution_count": 31,
   "metadata": {},
   "outputs": [],
   "source": [
    "dt2 = extrae_nombre(dt[10])"
   ]
  },
  {
   "cell_type": "code",
   "execution_count": 35,
   "metadata": {},
   "outputs": [
    {
     "data": {
      "text/plain": [
       "NoneType"
      ]
     },
     "execution_count": 35,
     "metadata": {},
     "output_type": "execute_result"
    }
   ],
   "source": [
    "type(dt2)"
   ]
  },
  {
   "cell_type": "markdown",
   "metadata": {},
   "source": [
    "👎"
   ]
  },
  {
   "cell_type": "markdown",
   "metadata": {},
   "source": [
    "## Challenge 3: Hidden Cold Joke\n",
    "\n",
    "Using Python, call Github API to find out the cold joke contained in the 24 secret files in the following repo:\n",
    "\n",
    "https://github.com/ironhack-datalabs/scavenger\n",
    "\n",
    "The filenames of the secret files contain .scavengerhunt and they are scattered in different directories of this repo. The secret files are named from .0001.scavengerhunt to .0024.scavengerhunt. They are scattered randomly throughout this repo. You need to search for these files by calling the Github API, not searching the local files on your computer.\n",
    "\n",
    "\n",
    "After you find out the secrete files:\n",
    "\n",
    "Sort the filenames ascendingly.\n",
    "\n",
    "Read the content of each secret files into an array of strings.\n",
    "\n",
    "Concatenate the strings in the array separating each two with a whitespace.\n",
    "\n",
    "Print out the joke.\n"
   ]
  },
  {
   "cell_type": "markdown",
   "metadata": {},
   "source": [
    "⚠️ **Remember to limit your output before submission**."
   ]
  },
  {
   "cell_type": "code",
   "execution_count": 4,
   "metadata": {},
   "outputs": [],
   "source": [
    "url = \"https://api.github.com/repos/ironhack-datalabs/scavenger/\"\n",
    "res = requests.get(url)\n",
    "token = open(\"../archivo.txt\")\n",
    "params = {\"Authorization\": f\"token {token}\"\n",
    "          \n",
    "}"
   ]
  },
  {
   "cell_type": "code",
   "execution_count": 5,
   "metadata": {},
   "outputs": [
    {
     "data": {
      "text/plain": [
       "<Response [404]>"
      ]
     },
     "execution_count": 5,
     "metadata": {},
     "output_type": "execute_result"
    }
   ],
   "source": [
    "requests.get(url, params = params)"
   ]
  }
 ],
 "metadata": {
  "kernelspec": {
   "display_name": "Python 3",
   "language": "python",
   "name": "python3"
  },
  "language_info": {
   "codemirror_mode": {
    "name": "ipython",
    "version": 3
   },
   "file_extension": ".py",
   "mimetype": "text/x-python",
   "name": "python",
   "nbconvert_exporter": "python",
   "pygments_lexer": "ipython3",
   "version": "3.8.5"
  }
 },
 "nbformat": 4,
 "nbformat_minor": 2
}
