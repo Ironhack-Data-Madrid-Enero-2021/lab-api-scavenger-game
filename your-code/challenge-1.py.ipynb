{
 "cells": [
  {
   "cell_type": "code",
   "execution_count": 1,
   "metadata": {},
   "outputs": [],
   "source": [
    "import json\n",
    "import os\n",
    "import requests"
   ]
  },
  {
   "cell_type": "code",
   "execution_count": 2,
   "metadata": {},
   "outputs": [
    {
     "data": {
      "text/plain": [
       "True"
      ]
     },
     "execution_count": 2,
     "metadata": {},
     "output_type": "execute_result"
    }
   ],
   "source": [
    "from dotenv import load_dotenv\n",
    "load_dotenv()"
   ]
  },
  {
   "cell_type": "markdown",
   "metadata": {},
   "source": [
    "## Challenge 1: Fork Languages\n",
    "\n",
    "You will find out how many programming languages are used among all the forks created from the main lab repo of your bootcamp. Assuming the main lab repo is ironhack-datalabs/datamad1020-rev, you will:\n",
    "\n",
    "1. Obtain the full list of forks created from the main lab repo via Github API.\n",
    "\n",
    "2. Loop the JSON response to find out the language attribute of each fork. Use an array to store the language attributes of each fork.\n",
    "\n",
    "Hint: Each language should appear only once in your array.\n",
    "\n",
    "3. Print the language array. It should be something like:\n",
    "\n",
    "[\"Python\", \"Jupyter Notebook\", \"HTML\"]\n"
   ]
  },
  {
   "cell_type": "markdown",
   "metadata": {},
   "source": [
    "**HINT:**: Create a list with every **language_url** you find in every fork "
   ]
  },
  {
   "cell_type": "markdown",
   "metadata": {},
   "source": [
    "⚠️ **Remember to limit your output before submission**."
   ]
  },
  {
   "cell_type": "code",
   "execution_count": 3,
   "metadata": {},
   "outputs": [],
   "source": [
    "# Abrimos nuestro Token \n",
    "token = open(\"../token.txt\").readlines()[0]"
   ]
  },
  {
   "cell_type": "code",
   "execution_count": 4,
   "metadata": {},
   "outputs": [],
   "source": [
    "# Entramos en la url \n",
    "url = \"https://api.github.com/repos/ironhack-datalabs/datamad1020-rev/forks\""
   ]
  },
  {
   "cell_type": "code",
   "execution_count": 5,
   "metadata": {},
   "outputs": [],
   "source": [
    "# Configuramos parametros \n",
    "params = {\"Authorization\": f\"token {token}\"}"
   ]
  },
  {
   "cell_type": "code",
   "execution_count": 6,
   "metadata": {},
   "outputs": [
    {
     "data": {
      "text/plain": [
       "200"
      ]
     },
     "execution_count": 6,
     "metadata": {},
     "output_type": "execute_result"
    }
   ],
   "source": [
    "# Html response\n",
    "\n",
    "response = requests.get(url, headers=params)\n",
    "response.status_code"
   ]
  },
  {
   "cell_type": "code",
   "execution_count": 7,
   "metadata": {},
   "outputs": [
    {
     "data": {
      "text/plain": [
       "{'Date': 'Wed, 27 Jan 2021 16:35:03 GMT', 'Content-Type': 'application/json; charset=utf-8', 'Transfer-Encoding': 'chunked', 'Server': 'GitHub.com', 'Status': '200 OK', 'Cache-Control': 'private, max-age=60, s-maxage=60', 'Vary': 'Accept, Authorization, Cookie, X-GitHub-OTP, Accept-Encoding, Accept, X-Requested-With, Accept-Encoding', 'ETag': 'W/\"16d52c0966010dfb003ff17f739b2087d628a93a8ae667ce130ec1af438ddf19\"', 'X-OAuth-Scopes': 'repo', 'X-Accepted-OAuth-Scopes': '', 'X-GitHub-Media-Type': 'github.v3; format=json', 'X-RateLimit-Limit': '5000', 'X-RateLimit-Remaining': '4999', 'X-RateLimit-Reset': '1611768903', 'x-ratelimit-used': '1', 'Access-Control-Expose-Headers': 'ETag, Link, Location, Retry-After, X-GitHub-OTP, X-RateLimit-Limit, X-RateLimit-Remaining, X-RateLimit-Used, X-RateLimit-Reset, X-OAuth-Scopes, X-Accepted-OAuth-Scopes, X-Poll-Interval, X-GitHub-Media-Type, Deprecation, Sunset', 'Access-Control-Allow-Origin': '*', 'Strict-Transport-Security': 'max-age=31536000; includeSubdomains; preload', 'X-Frame-Options': 'deny', 'X-Content-Type-Options': 'nosniff', 'X-XSS-Protection': '1; mode=block', 'Referrer-Policy': 'origin-when-cross-origin, strict-origin-when-cross-origin', 'Content-Security-Policy': \"default-src 'none'\", 'Content-Encoding': 'gzip', 'X-GitHub-Request-Id': 'F9A1:837A:2607DF0:2A39E86:60119636'}"
      ]
     },
     "execution_count": 7,
     "metadata": {},
     "output_type": "execute_result"
    }
   ],
   "source": [
    "response.headers"
   ]
  },
  {
   "cell_type": "code",
   "execution_count": 10,
   "metadata": {},
   "outputs": [
    {
     "name": "stdout",
     "output_type": "stream",
     "text": [
      "[{'id': 333169333, 'node_id': 'MDEwOlJlcG9zaXRvcnkzMzMxNjkzMzM=', 'name': 'datamad1020-rev', 'full_name': 'PaolaKarina/datamad1020-rev', 'private': False, 'owner': {'login': 'PaolaKarina', 'id': 72129520, 'node_id': 'MDQ6VXNlcjcyMTI5NTIw', 'avatar_url': 'https://avatars.githubusercontent.com/u/72129520?v=4', 'gravatar_id': '', 'url': 'https://api.github.com/users/PaolaKarina', 'html_url': 'https://github.com/PaolaKarina', 'followers_url': 'https://api.github.com/users/PaolaKarina/followers', 'following_url': 'https://api.github.com/users/PaolaKarina/following{/other_user}', 'gists_url': 'https://api.github.com/users/PaolaKarina/gists{/gist_id}', 'starred_url': 'https://api.github.com/users/PaolaKarina/starred{/owner}{/repo}', 'subscriptions_url': 'https://api.github.com/users/PaolaKarina/subscriptions', 'organizations_url': 'https://api.github.com/users/PaolaKarina/orgs', 'repos_url': 'https://api.github.com/users/PaolaKarina/repos', 'events_url': 'https://api.github.com/users/PaolaKarina/events{/privacy}', 'received_events_url': 'https://api.github.com/users/PaolaKarina/received_events', 'type': 'User', 'site_admin': False}, 'html_url': 'https://github.com/PaolaKarina/datamad1020-rev', 'description': None, 'fork': True, 'url': 'https://api.github.com/repos/PaolaKarina/datamad1020-rev', 'forks_url': 'https://api.github.com/repos/PaolaKarina/datamad1020-rev/forks', 'keys_url': 'https://api.github.com/repos/PaolaKarina/datamad1020-rev/keys{/key_id}', 'collaborators_url': 'https://api.github.com/repos/PaolaKarina/datamad1020-rev/collaborators{/collaborator}', 'teams_url': 'https://api.github.com/repos/PaolaKarina/datamad1020-rev/teams', 'hooks_url': 'https://api.github.com/repos/PaolaKarina/datamad1020-rev/hooks', 'issue_events_url': 'https://api.github.com/repos/PaolaKarina/datamad1020-rev/issues/events{/number}', 'events_url': 'https://api.github.com/repos/PaolaKarina/datamad1020-rev/events', 'assignees_url': 'https://api.github.com/repos/PaolaKarina/datamad1020-rev/assignees{/user}', 'branches_url': 'https://api.github.com/repos/PaolaKarina/datamad1020-rev/branches{/branch}', 'tags_url': 'https://api.github.com/repos/PaolaKarina/datamad1020-rev/tags', 'blobs_url': 'https://api.github.com/repos/PaolaKarina/datamad1020-rev/git/blobs{/sha}', 'git_tags_url': 'https://api.github.com/repos/PaolaKarina/datamad1020-rev/git/tags{/sha}', 'git_refs_url': 'https://api.github.com/repos/PaolaKarina/datamad1020-rev/git/refs{/sha}', 'trees_url': 'https://api.github.com/repos/PaolaKarina/datamad1020-rev/git/trees{/sha}', 'statuses_url': 'https://api.github.com/repos/PaolaKarina/datamad1020-rev/statuses/{sha}', 'languages_url': 'https://api.github.com/repos/PaolaKarina/datamad1020-rev/languages', 'stargazers_url': 'https://api.github.com/repos/PaolaKarina/datamad1020-rev/stargazers', 'contributors_url': 'https://api.github.com/repos/PaolaKarina/datamad1020-rev/contributors', 'subscribers_url': 'https://api.github.com/repos/PaolaKarina/datamad1020-rev/subscribers', 'subscription_url': 'https://api.github.com/repos/PaolaKarina/datamad1020-rev/subscription', 'commits_url': 'https://api.github.com/repos/PaolaKarina/datamad1020-rev/commits{/sha}', 'git_commits_url': 'https://api.github.com/repos/PaolaKarina/datamad1020-rev/git/commits{/sha}', 'comments_url': 'https://api.github.com/repos/PaolaKarina/datamad1020-rev/comments{/number}', 'issue_comment_url': 'https://api.github.com/repos/PaolaKarina/datamad1020-rev/issues/comments{/number}', 'contents_url': 'https://api.github.com/repos/PaolaKarina/datamad1020-rev/contents/{+path}', 'compare_url': 'https://api.github.com/repos/PaolaKarina/datamad1020-rev/compare/{base}...{head}', 'merges_url': 'https://api.github.com/repos/PaolaKarina/datamad1020-rev/merges', 'archive_url': 'https://api.github.com/repos/PaolaKarina/datamad1020-rev/{archive_format}{/ref}', 'downloads_url': 'https://api.github.com/repos/PaolaKarina/datamad1020-rev/downloads', 'issues_url': 'https://api.github.com/repos/PaolaKarina/datamad1020-rev/issues{/number}', 'pulls_url': 'https://api.github.com/repos/PaolaKarina/datamad1020-rev/pulls{/number}', 'milestones_url': 'https://api.github.com/repos/PaolaKarina/datamad1020-rev/milestones{/number}', 'notifications_url': 'https://api.github.com/repos/PaolaKarina/datamad1020-rev/notifications{?since,all,participating}', 'labels_url': 'https://api.github.com/repos/PaolaKarina/datamad1020-rev/labels{/name}', 'releases_url': 'https://api.github.com/repos/PaolaKarina/datamad1020-rev/releases{/id}', 'deployments_url': 'https://api.github.com/repos/PaolaKarina/datamad1020-rev/deployments', 'created_at': '2021-01-26T17:54:51Z', 'updated_at': '2021-01-26T17:54:53Z', 'pushed_at': '2021-01-26T13:00:17Z', 'git_url': 'git://github.com/PaolaKarina/datamad1020-rev.git', 'ssh_url': 'git@github.com:PaolaKarina/datamad1020-rev.git', 'clone_url': 'https://github.com/PaolaKarina/datamad1020-rev.git', 'svn_url': 'https://github.com/PaolaKarina/datamad1020-rev', 'homepage': None, 'size': 164263, 'stargazers_count': 0, 'watchers_count': 0, 'language': None, 'has_issues': False, 'has_projects': True, 'has_downloads': True, 'has_wiki': True, 'has_pages': False, 'forks_count': 0, 'mirror_url': None, 'archived': False, 'disabled': False, 'open_issues_count': 0, 'license': {'key': 'agpl-3.0', 'name': 'GNU Affero General Public License v3.0', 'spdx_id': 'AGPL-3.0', 'url': 'https://api.github.com/licenses/agpl-3.0', 'node_id': 'MDc6TGljZW5zZTE='}, 'forks': 0, 'open_issues': 0, 'watchers': 0, 'default_branch': 'master', 'permissions': {'admin': False, 'push': False, 'pull': True}}]\n"
     ]
    }
   ],
   "source": [
    "# JSON response\n",
    "info = response.json()\n",
    "\n",
    "print(info[:1]) "
   ]
  },
  {
   "cell_type": "code",
   "execution_count": 305,
   "metadata": {},
   "outputs": [
    {
     "data": {
      "text/plain": [
       "\"info es una <class 'list'> de <class 'dict'>\""
      ]
     },
     "execution_count": 305,
     "metadata": {},
     "output_type": "execute_result"
    }
   ],
   "source": [
    "# lista de dicionarios para trabajar \n",
    "f'info es una {type(info)} de {type(info[0])}'"
   ]
  },
  {
   "cell_type": "code",
   "execution_count": 11,
   "metadata": {},
   "outputs": [
    {
     "name": "stdout",
     "output_type": "stream",
     "text": [
      "          id                           node_id             name  \\\n",
      "0  333169333  MDEwOlJlcG9zaXRvcnkzMzMxNjkzMzM=  datamad1020-rev   \n",
      "\n",
      "                     full_name  private  \\\n",
      "0  PaolaKarina/datamad1020-rev    False   \n",
      "\n",
      "                                               owner  \\\n",
      "0  {'login': 'PaolaKarina', 'id': 72129520, 'node...   \n",
      "\n",
      "                                         html_url description  fork  \\\n",
      "0  https://github.com/PaolaKarina/datamad1020-rev        None  True   \n",
      "\n",
      "                                                 url  ... mirror_url archived  \\\n",
      "0  https://api.github.com/repos/PaolaKarina/datam...  ...       None    False   \n",
      "\n",
      "  disabled open_issues_count  \\\n",
      "0    False                 0   \n",
      "\n",
      "                                             license forks open_issues  \\\n",
      "0  {'key': 'agpl-3.0', 'name': 'GNU Affero Genera...     0           0   \n",
      "\n",
      "  watchers default_branch                                    permissions  \n",
      "0        0         master  {'admin': False, 'push': False, 'pull': True}  \n",
      "\n",
      "[1 rows x 74 columns]\n"
     ]
    }
   ],
   "source": [
    "# Podemos pasarlo a DF \n",
    "import pandas as pd \n",
    "df= pd.DataFrame(info)\n",
    "print(df[:1]) "
   ]
  },
  {
   "cell_type": "code",
   "execution_count": 307,
   "metadata": {},
   "outputs": [
    {
     "data": {
      "text/plain": [
       "Index(['id', 'node_id', 'name', 'full_name', 'private', 'owner', 'html_url',\n",
       "       'description', 'fork', 'url', 'forks_url', 'keys_url',\n",
       "       'collaborators_url', 'teams_url', 'hooks_url', 'issue_events_url',\n",
       "       'events_url', 'assignees_url', 'branches_url', 'tags_url', 'blobs_url',\n",
       "       'git_tags_url', 'git_refs_url', 'trees_url', 'statuses_url',\n",
       "       'languages_url', 'stargazers_url', 'contributors_url',\n",
       "       'subscribers_url', 'subscription_url', 'commits_url', 'git_commits_url',\n",
       "       'comments_url', 'issue_comment_url', 'contents_url', 'compare_url',\n",
       "       'merges_url', 'archive_url', 'downloads_url', 'issues_url', 'pulls_url',\n",
       "       'milestones_url', 'notifications_url', 'labels_url', 'releases_url',\n",
       "       'deployments_url', 'created_at', 'updated_at', 'pushed_at', 'git_url',\n",
       "       'ssh_url', 'clone_url', 'svn_url', 'homepage', 'size',\n",
       "       'stargazers_count', 'watchers_count', 'language', 'has_issues',\n",
       "       'has_projects', 'has_downloads', 'has_wiki', 'has_pages', 'forks_count',\n",
       "       'mirror_url', 'archived', 'disabled', 'open_issues_count', 'license',\n",
       "       'forks', 'open_issues', 'watchers', 'default_branch', 'permissions'],\n",
       "      dtype='object')"
      ]
     },
     "execution_count": 307,
     "metadata": {},
     "output_type": "execute_result"
    }
   ],
   "source": [
    "# Localizamos 'language'\n",
    "df.columns "
   ]
  },
  {
   "cell_type": "code",
   "execution_count": 308,
   "metadata": {},
   "outputs": [
    {
     "data": {
      "text/plain": [
       "0                None\n",
       "1                None\n",
       "2    Jupyter Notebook\n",
       "3    Jupyter Notebook\n",
       "4    Jupyter Notebook\n",
       "5    Jupyter Notebook\n",
       "6    Jupyter Notebook\n",
       "7    Jupyter Notebook\n",
       "8    Jupyter Notebook\n",
       "9    Jupyter Notebook\n",
       "Name: language, dtype: object"
      ]
     },
     "execution_count": 308,
     "metadata": {},
     "output_type": "execute_result"
    }
   ],
   "source": [
    "df.language[:10]"
   ]
  },
  {
   "cell_type": "markdown",
   "metadata": {},
   "source": [
    "## Challenge 2: Count Commits\n",
    "\n",
    "Count how many commits were made in the past week.\n",
    "\n",
    "Obtain all the commits made in the past week via API, which is a JSON array that contains multiple commit objects.\n",
    "\n",
    "Count how many commit objects are contained in the array.\n",
    "\n"
   ]
  },
  {
   "cell_type": "markdown",
   "metadata": {},
   "source": [
    "⚠️ **Remember to limit your output before submission**."
   ]
  },
  {
   "cell_type": "code",
   "execution_count": 12,
   "metadata": {},
   "outputs": [
    {
     "data": {
      "text/plain": [
       "200"
      ]
     },
     "execution_count": 12,
     "metadata": {},
     "output_type": "execute_result"
    }
   ],
   "source": [
    "# tenemos que hacer un Html response pero ahora camnbiamos la url buscando 'commits' para que se lo pase al response \n",
    "url_2 = \"https://api.github.com/repos/ironhack-datalabs/datamad1020-rev/commits\"\n",
    "# Configuramos parametros \n",
    "params_2 = {\"Authorization\": f\"token {token}\",\"since\": \"2021-01-19\"}\n",
    "response_2 = requests.get(url_2, headers=params_2)\n",
    "response_2.status_code"
   ]
  },
  {
   "cell_type": "code",
   "execution_count": 14,
   "metadata": {},
   "outputs": [
    {
     "name": "stdout",
     "output_type": "stream",
     "text": [
      "[{'id': 333169333, 'node_id': 'MDEwOlJlcG9zaXRvcnkzMzMxNjkzMzM=', 'name': 'datamad1020-rev', 'full_name': 'PaolaKarina/datamad1020-rev', 'private': False, 'owner': {'login': 'PaolaKarina', 'id': 72129520, 'node_id': 'MDQ6VXNlcjcyMTI5NTIw', 'avatar_url': 'https://avatars.githubusercontent.com/u/72129520?v=4', 'gravatar_id': '', 'url': 'https://api.github.com/users/PaolaKarina', 'html_url': 'https://github.com/PaolaKarina', 'followers_url': 'https://api.github.com/users/PaolaKarina/followers', 'following_url': 'https://api.github.com/users/PaolaKarina/following{/other_user}', 'gists_url': 'https://api.github.com/users/PaolaKarina/gists{/gist_id}', 'starred_url': 'https://api.github.com/users/PaolaKarina/starred{/owner}{/repo}', 'subscriptions_url': 'https://api.github.com/users/PaolaKarina/subscriptions', 'organizations_url': 'https://api.github.com/users/PaolaKarina/orgs', 'repos_url': 'https://api.github.com/users/PaolaKarina/repos', 'events_url': 'https://api.github.com/users/PaolaKarina/events{/privacy}', 'received_events_url': 'https://api.github.com/users/PaolaKarina/received_events', 'type': 'User', 'site_admin': False}, 'html_url': 'https://github.com/PaolaKarina/datamad1020-rev', 'description': None, 'fork': True, 'url': 'https://api.github.com/repos/PaolaKarina/datamad1020-rev', 'forks_url': 'https://api.github.com/repos/PaolaKarina/datamad1020-rev/forks', 'keys_url': 'https://api.github.com/repos/PaolaKarina/datamad1020-rev/keys{/key_id}', 'collaborators_url': 'https://api.github.com/repos/PaolaKarina/datamad1020-rev/collaborators{/collaborator}', 'teams_url': 'https://api.github.com/repos/PaolaKarina/datamad1020-rev/teams', 'hooks_url': 'https://api.github.com/repos/PaolaKarina/datamad1020-rev/hooks', 'issue_events_url': 'https://api.github.com/repos/PaolaKarina/datamad1020-rev/issues/events{/number}', 'events_url': 'https://api.github.com/repos/PaolaKarina/datamad1020-rev/events', 'assignees_url': 'https://api.github.com/repos/PaolaKarina/datamad1020-rev/assignees{/user}', 'branches_url': 'https://api.github.com/repos/PaolaKarina/datamad1020-rev/branches{/branch}', 'tags_url': 'https://api.github.com/repos/PaolaKarina/datamad1020-rev/tags', 'blobs_url': 'https://api.github.com/repos/PaolaKarina/datamad1020-rev/git/blobs{/sha}', 'git_tags_url': 'https://api.github.com/repos/PaolaKarina/datamad1020-rev/git/tags{/sha}', 'git_refs_url': 'https://api.github.com/repos/PaolaKarina/datamad1020-rev/git/refs{/sha}', 'trees_url': 'https://api.github.com/repos/PaolaKarina/datamad1020-rev/git/trees{/sha}', 'statuses_url': 'https://api.github.com/repos/PaolaKarina/datamad1020-rev/statuses/{sha}', 'languages_url': 'https://api.github.com/repos/PaolaKarina/datamad1020-rev/languages', 'stargazers_url': 'https://api.github.com/repos/PaolaKarina/datamad1020-rev/stargazers', 'contributors_url': 'https://api.github.com/repos/PaolaKarina/datamad1020-rev/contributors', 'subscribers_url': 'https://api.github.com/repos/PaolaKarina/datamad1020-rev/subscribers', 'subscription_url': 'https://api.github.com/repos/PaolaKarina/datamad1020-rev/subscription', 'commits_url': 'https://api.github.com/repos/PaolaKarina/datamad1020-rev/commits{/sha}', 'git_commits_url': 'https://api.github.com/repos/PaolaKarina/datamad1020-rev/git/commits{/sha}', 'comments_url': 'https://api.github.com/repos/PaolaKarina/datamad1020-rev/comments{/number}', 'issue_comment_url': 'https://api.github.com/repos/PaolaKarina/datamad1020-rev/issues/comments{/number}', 'contents_url': 'https://api.github.com/repos/PaolaKarina/datamad1020-rev/contents/{+path}', 'compare_url': 'https://api.github.com/repos/PaolaKarina/datamad1020-rev/compare/{base}...{head}', 'merges_url': 'https://api.github.com/repos/PaolaKarina/datamad1020-rev/merges', 'archive_url': 'https://api.github.com/repos/PaolaKarina/datamad1020-rev/{archive_format}{/ref}', 'downloads_url': 'https://api.github.com/repos/PaolaKarina/datamad1020-rev/downloads', 'issues_url': 'https://api.github.com/repos/PaolaKarina/datamad1020-rev/issues{/number}', 'pulls_url': 'https://api.github.com/repos/PaolaKarina/datamad1020-rev/pulls{/number}', 'milestones_url': 'https://api.github.com/repos/PaolaKarina/datamad1020-rev/milestones{/number}', 'notifications_url': 'https://api.github.com/repos/PaolaKarina/datamad1020-rev/notifications{?since,all,participating}', 'labels_url': 'https://api.github.com/repos/PaolaKarina/datamad1020-rev/labels{/name}', 'releases_url': 'https://api.github.com/repos/PaolaKarina/datamad1020-rev/releases{/id}', 'deployments_url': 'https://api.github.com/repos/PaolaKarina/datamad1020-rev/deployments', 'created_at': '2021-01-26T17:54:51Z', 'updated_at': '2021-01-26T17:54:53Z', 'pushed_at': '2021-01-26T13:00:17Z', 'git_url': 'git://github.com/PaolaKarina/datamad1020-rev.git', 'ssh_url': 'git@github.com:PaolaKarina/datamad1020-rev.git', 'clone_url': 'https://github.com/PaolaKarina/datamad1020-rev.git', 'svn_url': 'https://github.com/PaolaKarina/datamad1020-rev', 'homepage': None, 'size': 164263, 'stargazers_count': 0, 'watchers_count': 0, 'language': None, 'has_issues': False, 'has_projects': True, 'has_downloads': True, 'has_wiki': True, 'has_pages': False, 'forks_count': 0, 'mirror_url': None, 'archived': False, 'disabled': False, 'open_issues_count': 0, 'license': {'key': 'agpl-3.0', 'name': 'GNU Affero General Public License v3.0', 'spdx_id': 'AGPL-3.0', 'url': 'https://api.github.com/licenses/agpl-3.0', 'node_id': 'MDc6TGljZW5zZTE='}, 'forks': 0, 'open_issues': 0, 'watchers': 0, 'default_branch': 'master', 'permissions': {'admin': False, 'push': False, 'pull': True}}]\n"
     ]
    }
   ],
   "source": [
    "info_2 = response.json()\n",
    "\n",
    "print(info_2[:1]) "
   ]
  },
  {
   "cell_type": "code",
   "execution_count": 311,
   "metadata": {
    "scrolled": true
   },
   "outputs": [
    {
     "data": {
      "text/plain": [
       "22"
      ]
     },
     "execution_count": 311,
     "metadata": {},
     "output_type": "execute_result"
    }
   ],
   "source": [
    "len(info_2)"
   ]
  },
  {
   "cell_type": "markdown",
   "metadata": {},
   "source": [
    "## Challenge 3: Hidden Cold Joke\n",
    "\n",
    "Using Python, call Github API to find out the cold joke contained in the 24 secret files in the following repo:\n",
    "\n",
    "https://github.com/ironhack-datalabs/scavenger\n",
    "\n",
    "The filenames of the secret files contain .scavengerhunt and they are scattered in different directories of this repo. The secret files are named from .0001.scavengerhunt to .0024.scavengerhunt. They are scattered randomly throughout this repo. You need to search for these files by calling the Github API, not searching the local files on your computer.\n",
    "\n",
    "\n",
    "After you find out the secrete files:\n",
    "\n",
    "Sort the filenames ascendingly.\n",
    "\n",
    "Read the content of each secret files into an array of strings.\n",
    "\n",
    "Concatenate the strings in the array separating each two with a whitespace.\n",
    "\n",
    "Print out the joke.\n"
   ]
  },
  {
   "cell_type": "markdown",
   "metadata": {},
   "source": [
    "⚠️ **Remember to limit your output before submission**."
   ]
  },
  {
   "cell_type": "code",
   "execution_count": null,
   "metadata": {},
   "outputs": [],
   "source": [
    "# Your code"
   ]
  },
  {
   "cell_type": "code",
   "execution_count": null,
   "metadata": {},
   "outputs": [],
   "source": [
    "# Example: print(variable[:10]) "
   ]
  }
 ],
 "metadata": {
  "kernelspec": {
   "display_name": "Python 3",
   "language": "python",
   "name": "python3"
  },
  "language_info": {
   "codemirror_mode": {
    "name": "ipython",
    "version": 3
   },
   "file_extension": ".py",
   "mimetype": "text/x-python",
   "name": "python",
   "nbconvert_exporter": "python",
   "pygments_lexer": "ipython3",
   "version": "3.9.1"
  }
 },
 "nbformat": 4,
 "nbformat_minor": 2
}
