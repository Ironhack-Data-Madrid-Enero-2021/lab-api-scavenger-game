{
 "cells": [
  {
   "cell_type": "code",
   "execution_count": 1,
   "metadata": {},
   "outputs": [],
   "source": [
    "import json\n",
    "import os\n",
    "import requests"
   ]
  },
  {
   "cell_type": "code",
   "execution_count": 2,
   "metadata": {},
   "outputs": [
    {
     "data": {
      "text/plain": [
       "True"
      ]
     },
     "execution_count": 2,
     "metadata": {},
     "output_type": "execute_result"
    }
   ],
   "source": [
    "from dotenv import load_dotenv\n",
    "load_dotenv()"
   ]
  },
  {
   "cell_type": "markdown",
   "metadata": {},
   "source": [
    "## Challenge 1: Fork Languages\n",
    "\n",
    "You will find out how many programming languages are used among all the forks created from the main lab repo of your bootcamp. Assuming the main lab repo is ironhack-datalabs/datamad1020-rev, you will:\n",
    "\n",
    "1. Obtain the full list of forks created from the main lab repo via Github API.\n",
    "\n",
    "2. Loop the JSON response to find out the language attribute of each fork. Use an array to store the language attributes of each fork.\n",
    "\n",
    "Hint: Each language should appear only once in your array.\n",
    "\n",
    "3. Print the language array. It should be something like:\n",
    "\n",
    "[\"Python\", \"Jupyter Notebook\", \"HTML\"]\n"
   ]
  },
  {
   "cell_type": "markdown",
   "metadata": {},
   "source": [
    "**HINT:**: Create a list with every **language_url** you find in every fork "
   ]
  },
  {
   "cell_type": "markdown",
   "metadata": {},
   "source": [
    "⚠️ **Remember to limit your output before submission**."
   ]
  },
  {
   "cell_type": "code",
   "execution_count": 14,
   "metadata": {},
   "outputs": [],
   "source": [
    "#Your code\n",
    "token = open(\"../token.txt\").readlines()[0]"
   ]
  },
  {
   "cell_type": "code",
   "execution_count": 15,
   "metadata": {},
   "outputs": [],
   "source": [
    "token = token.strip()"
   ]
  },
  {
   "cell_type": "code",
   "execution_count": 23,
   "metadata": {},
   "outputs": [],
   "source": [
    "params = {\n",
    "        \"Authorization\": f\"token {token}\"}"
   ]
  },
  {
   "cell_type": "code",
   "execution_count": 30,
   "metadata": {},
   "outputs": [],
   "source": [
    "url = \"https://api.github.com/repos/ironhack-datalabs/datamad1020-rev/forks\""
   ]
  },
  {
   "cell_type": "code",
   "execution_count": 31,
   "metadata": {},
   "outputs": [],
   "source": [
    "response = requests.get(url, headers=params)"
   ]
  },
  {
   "cell_type": "code",
   "execution_count": 32,
   "metadata": {},
   "outputs": [
    {
     "data": {
      "text/plain": [
       "200"
      ]
     },
     "execution_count": 32,
     "metadata": {},
     "output_type": "execute_result"
    }
   ],
   "source": [
    "response.status_code"
   ]
  },
  {
   "cell_type": "code",
   "execution_count": 151,
   "metadata": {},
   "outputs": [],
   "source": [
    "data = response.json()"
   ]
  },
  {
   "cell_type": "code",
   "execution_count": 152,
   "metadata": {},
   "outputs": [
    {
     "name": "stdout",
     "output_type": "stream",
     "text": [
      "{'id': 315459070, 'node_id': 'MDEwOlJlcG9zaXRvcnkzMTU0NTkwNzA=', 'name': 'datamad1020-rev', 'full_name': 'VictorRodriguezIronhack/datamad1020-rev', 'private': False, 'owner': {'login': 'VictorRodriguezIronhack', 'id': 57629054, 'node_id': 'MDQ6VXNlcjU3NjI5MDU0', 'avatar_url': 'https://avatars.githubusercontent.com/u/57629054?v=4', 'gravatar_id': '', 'url': 'https://api.github.com/users/VictorRodriguezIronhack', 'html_url': 'https://github.com/VictorRodriguezIronhack', 'followers_url': 'https://api.github.com/users/VictorRodriguezIronhack/followers', 'following_url': 'https://api.github.com/users/VictorRodriguezIronhack/following{/other_user}', 'gists_url': 'https://api.github.com/users/VictorRodriguezIronhack/gists{/gist_id}', 'starred_url': 'https://api.github.com/users/VictorRodriguezIronhack/starred{/owner}{/repo}', 'subscriptions_url': 'https://api.github.com/users/VictorRodriguezIronhack/subscriptions', 'organizations_url': 'https://api.github.com/users/VictorRodriguezIronhack/orgs', 'repos_url': 'https://api.github.com/users/VictorRodriguezIronhack/repos', 'events_url': 'https://api.github.com/users/VictorRodriguezIronhack/events{/privacy}', 'received_events_url': 'https://api.github.com/users/VictorRodriguezIronhack/received_events', 'type': 'User', 'site_admin': False}, 'html_url': 'https://github.com/VictorRodriguezIronhack/datamad1020-rev', 'description': None, 'fork': True, 'url': 'https://api.github.com/repos/VictorRodriguezIronhack/datamad1020-rev', 'forks_url': 'https://api.github.com/repos/VictorRodriguezIronhack/datamad1020-rev/forks', 'keys_url': 'https://api.github.com/repos/VictorRodriguezIronhack/datamad1020-rev/keys{/key_id}', 'collaborators_url': 'https://api.github.com/repos/VictorRodriguezIronhack/datamad1020-rev/collaborators{/collaborator}', 'teams_url': 'https://api.github.com/repos/VictorRodriguezIronhack/datamad1020-rev/teams', 'hooks_url': 'https://api.github.com/repos/VictorRodriguezIronhack/datamad1020-rev/hooks', 'issue_events_url': 'https://api.github.com/repos/VictorRodriguezIronhack/datamad1020-rev/issues/events{/number}', 'events_url': 'https://api.github.com/repos/VictorRodriguezIronhack/datamad1020-rev/events', 'assignees_url': 'https://api.github.com/repos/VictorRodriguezIronhack/datamad1020-rev/assignees{/user}', 'branches_url': 'https://api.github.com/repos/VictorRodriguezIronhack/datamad1020-rev/branches{/branch}', 'tags_url': 'https://api.github.com/repos/VictorRodriguezIronhack/datamad1020-rev/tags', 'blobs_url': 'https://api.github.com/repos/VictorRodriguezIronhack/datamad1020-rev/git/blobs{/sha}', 'git_tags_url': 'https://api.github.com/repos/VictorRodriguezIronhack/datamad1020-rev/git/tags{/sha}', 'git_refs_url': 'https://api.github.com/repos/VictorRodriguezIronhack/datamad1020-rev/git/refs{/sha}', 'trees_url': 'https://api.github.com/repos/VictorRodriguezIronhack/datamad1020-rev/git/trees{/sha}', 'statuses_url': 'https://api.github.com/repos/VictorRodriguezIronhack/datamad1020-rev/statuses/{sha}', 'languages_url': 'https://api.github.com/repos/VictorRodriguezIronhack/datamad1020-rev/languages', 'stargazers_url': 'https://api.github.com/repos/VictorRodriguezIronhack/datamad1020-rev/stargazers', 'contributors_url': 'https://api.github.com/repos/VictorRodriguezIronhack/datamad1020-rev/contributors', 'subscribers_url': 'https://api.github.com/repos/VictorRodriguezIronhack/datamad1020-rev/subscribers', 'subscription_url': 'https://api.github.com/repos/VictorRodriguezIronhack/datamad1020-rev/subscription', 'commits_url': 'https://api.github.com/repos/VictorRodriguezIronhack/datamad1020-rev/commits{/sha}', 'git_commits_url': 'https://api.github.com/repos/VictorRodriguezIronhack/datamad1020-rev/git/commits{/sha}', 'comments_url': 'https://api.github.com/repos/VictorRodriguezIronhack/datamad1020-rev/comments{/number}', 'issue_comment_url': 'https://api.github.com/repos/VictorRodriguezIronhack/datamad1020-rev/issues/comments{/number}', 'contents_url': 'https://api.github.com/repos/VictorRodriguezIronhack/datamad1020-rev/contents/{+path}', 'compare_url': 'https://api.github.com/repos/VictorRodriguezIronhack/datamad1020-rev/compare/{base}...{head}', 'merges_url': 'https://api.github.com/repos/VictorRodriguezIronhack/datamad1020-rev/merges', 'archive_url': 'https://api.github.com/repos/VictorRodriguezIronhack/datamad1020-rev/{archive_format}{/ref}', 'downloads_url': 'https://api.github.com/repos/VictorRodriguezIronhack/datamad1020-rev/downloads', 'issues_url': 'https://api.github.com/repos/VictorRodriguezIronhack/datamad1020-rev/issues{/number}', 'pulls_url': 'https://api.github.com/repos/VictorRodriguezIronhack/datamad1020-rev/pulls{/number}', 'milestones_url': 'https://api.github.com/repos/VictorRodriguezIronhack/datamad1020-rev/milestones{/number}', 'notifications_url': 'https://api.github.com/repos/VictorRodriguezIronhack/datamad1020-rev/notifications{?since,all,participating}', 'labels_url': 'https://api.github.com/repos/VictorRodriguezIronhack/datamad1020-rev/labels{/name}', 'releases_url': 'https://api.github.com/repos/VictorRodriguezIronhack/datamad1020-rev/releases{/id}', 'deployments_url': 'https://api.github.com/repos/VictorRodriguezIronhack/datamad1020-rev/deployments', 'created_at': '2020-11-23T22:45:48Z', 'updated_at': '2020-11-23T22:45:49Z', 'pushed_at': '2020-11-23T22:39:42Z', 'git_url': 'git://github.com/VictorRodriguezIronhack/datamad1020-rev.git', 'ssh_url': 'git@github.com:VictorRodriguezIronhack/datamad1020-rev.git', 'clone_url': 'https://github.com/VictorRodriguezIronhack/datamad1020-rev.git', 'svn_url': 'https://github.com/VictorRodriguezIronhack/datamad1020-rev', 'homepage': None, 'size': 163931, 'stargazers_count': 0, 'watchers_count': 0, 'language': None, 'has_issues': False, 'has_projects': True, 'has_downloads': True, 'has_wiki': True, 'has_pages': False, 'forks_count': 0, 'mirror_url': None, 'archived': False, 'disabled': False, 'open_issues_count': 0, 'license': {'key': 'agpl-3.0', 'name': 'GNU Affero General Public License v3.0', 'spdx_id': 'AGPL-3.0', 'url': 'https://api.github.com/licenses/agpl-3.0', 'node_id': 'MDc6TGljZW5zZTE='}, 'forks': 0, 'open_issues': 0, 'watchers': 0, 'default_branch': 'master', 'permissions': {'admin': False, 'push': False, 'pull': True}}\n"
     ]
    }
   ],
   "source": [
    "print(data[0])"
   ]
  },
  {
   "cell_type": "code",
   "execution_count": 39,
   "metadata": {},
   "outputs": [
    {
     "data": {
      "text/plain": [
       "list"
      ]
     },
     "execution_count": 39,
     "metadata": {},
     "output_type": "execute_result"
    }
   ],
   "source": [
    "type(data)"
   ]
  },
  {
   "cell_type": "code",
   "execution_count": 43,
   "metadata": {},
   "outputs": [
    {
     "data": {
      "text/plain": [
       "dict"
      ]
     },
     "execution_count": 43,
     "metadata": {},
     "output_type": "execute_result"
    }
   ],
   "source": [
    "type(data[0])"
   ]
  },
  {
   "cell_type": "code",
   "execution_count": 42,
   "metadata": {},
   "outputs": [
    {
     "data": {
      "text/plain": [
       "21"
      ]
     },
     "execution_count": 42,
     "metadata": {},
     "output_type": "execute_result"
    }
   ],
   "source": [
    "len(data)"
   ]
  },
  {
   "cell_type": "code",
   "execution_count": 44,
   "metadata": {},
   "outputs": [
    {
     "data": {
      "text/plain": [
       "74"
      ]
     },
     "execution_count": 44,
     "metadata": {},
     "output_type": "execute_result"
    }
   ],
   "source": [
    "len(data[0])"
   ]
  },
  {
   "cell_type": "code",
   "execution_count": 50,
   "metadata": {},
   "outputs": [],
   "source": [
    "a = data[0]"
   ]
  },
  {
   "cell_type": "code",
   "execution_count": 51,
   "metadata": {},
   "outputs": [
    {
     "data": {
      "text/plain": [
       "dict_keys(['id', 'node_id', 'name', 'full_name', 'private', 'owner', 'html_url', 'description', 'fork', 'url', 'forks_url', 'keys_url', 'collaborators_url', 'teams_url', 'hooks_url', 'issue_events_url', 'events_url', 'assignees_url', 'branches_url', 'tags_url', 'blobs_url', 'git_tags_url', 'git_refs_url', 'trees_url', 'statuses_url', 'languages_url', 'stargazers_url', 'contributors_url', 'subscribers_url', 'subscription_url', 'commits_url', 'git_commits_url', 'comments_url', 'issue_comment_url', 'contents_url', 'compare_url', 'merges_url', 'archive_url', 'downloads_url', 'issues_url', 'pulls_url', 'milestones_url', 'notifications_url', 'labels_url', 'releases_url', 'deployments_url', 'created_at', 'updated_at', 'pushed_at', 'git_url', 'ssh_url', 'clone_url', 'svn_url', 'homepage', 'size', 'stargazers_count', 'watchers_count', 'language', 'has_issues', 'has_projects', 'has_downloads', 'has_wiki', 'has_pages', 'forks_count', 'mirror_url', 'archived', 'disabled', 'open_issues_count', 'license', 'forks', 'open_issues', 'watchers', 'default_branch', 'permissions'])"
      ]
     },
     "execution_count": 51,
     "metadata": {},
     "output_type": "execute_result"
    }
   ],
   "source": [
    "a.keys()"
   ]
  },
  {
   "cell_type": "code",
   "execution_count": 83,
   "metadata": {},
   "outputs": [],
   "source": [
    "def extrae_language(dictionary):\n",
    "    # devuelve el value de la key name del dict\n",
    "    return dictionary.get(\"language\")"
   ]
  },
  {
   "cell_type": "code",
   "execution_count": 94,
   "metadata": {},
   "outputs": [
    {
     "data": {
      "text/plain": [
       "'Jupyter Notebook'"
      ]
     },
     "execution_count": 94,
     "metadata": {},
     "output_type": "execute_result"
    }
   ],
   "source": [
    "b = extrae_language(data[10])\n",
    "b"
   ]
  },
  {
   "cell_type": "code",
   "execution_count": 161,
   "metadata": {},
   "outputs": [
    {
     "name": "stdout",
     "output_type": "stream",
     "text": [
      "{None, 'Jupyter Notebook'}\n"
     ]
    }
   ],
   "source": [
    "langs=[l[\"language\"] for l in data]\n",
    "print(set(langs))"
   ]
  },
  {
   "cell_type": "code",
   "execution_count": 106,
   "metadata": {},
   "outputs": [
    {
     "data": {
      "text/plain": [
       "[None,\n",
       " 'Jupyter Notebook',\n",
       " 'Jupyter Notebook',\n",
       " 'Jupyter Notebook',\n",
       " 'Jupyter Notebook',\n",
       " 'Jupyter Notebook',\n",
       " 'Jupyter Notebook',\n",
       " 'Jupyter Notebook',\n",
       " 'Jupyter Notebook',\n",
       " 'Jupyter Notebook']"
      ]
     },
     "execution_count": 106,
     "metadata": {},
     "output_type": "execute_result"
    }
   ],
   "source": [
    "# Example: print(variable[:10]) \n",
    "langs[:10]"
   ]
  },
  {
   "cell_type": "code",
   "execution_count": 146,
   "metadata": {},
   "outputs": [],
   "source": [
    "import pandas as pd"
   ]
  },
  {
   "cell_type": "code",
   "execution_count": 169,
   "metadata": {},
   "outputs": [
    {
     "data": {
      "text/html": [
       "<div>\n",
       "<style scoped>\n",
       "    .dataframe tbody tr th:only-of-type {\n",
       "        vertical-align: middle;\n",
       "    }\n",
       "\n",
       "    .dataframe tbody tr th {\n",
       "        vertical-align: top;\n",
       "    }\n",
       "\n",
       "    .dataframe thead th {\n",
       "        text-align: right;\n",
       "    }\n",
       "</style>\n",
       "<table border=\"1\" class=\"dataframe\">\n",
       "  <thead>\n",
       "    <tr style=\"text-align: right;\">\n",
       "      <th></th>\n",
       "      <th>id</th>\n",
       "      <th>node_id</th>\n",
       "      <th>name</th>\n",
       "      <th>full_name</th>\n",
       "      <th>private</th>\n",
       "      <th>owner</th>\n",
       "      <th>html_url</th>\n",
       "      <th>description</th>\n",
       "      <th>fork</th>\n",
       "      <th>url</th>\n",
       "      <th>...</th>\n",
       "      <th>mirror_url</th>\n",
       "      <th>archived</th>\n",
       "      <th>disabled</th>\n",
       "      <th>open_issues_count</th>\n",
       "      <th>license</th>\n",
       "      <th>forks</th>\n",
       "      <th>open_issues</th>\n",
       "      <th>watchers</th>\n",
       "      <th>default_branch</th>\n",
       "      <th>permissions</th>\n",
       "    </tr>\n",
       "  </thead>\n",
       "  <tbody>\n",
       "    <tr>\n",
       "      <th>0</th>\n",
       "      <td>315459070</td>\n",
       "      <td>MDEwOlJlcG9zaXRvcnkzMTU0NTkwNzA=</td>\n",
       "      <td>datamad1020-rev</td>\n",
       "      <td>VictorRodriguezIronhack/datamad1020-rev</td>\n",
       "      <td>False</td>\n",
       "      <td>{'login': 'VictorRodriguezIronhack', 'id': 576...</td>\n",
       "      <td>https://github.com/VictorRodriguezIronhack/dat...</td>\n",
       "      <td>None</td>\n",
       "      <td>True</td>\n",
       "      <td>https://api.github.com/repos/VictorRodriguezIr...</td>\n",
       "      <td>...</td>\n",
       "      <td>None</td>\n",
       "      <td>False</td>\n",
       "      <td>False</td>\n",
       "      <td>0</td>\n",
       "      <td>{'key': 'agpl-3.0', 'name': 'GNU Affero Genera...</td>\n",
       "      <td>0</td>\n",
       "      <td>0</td>\n",
       "      <td>0</td>\n",
       "      <td>master</td>\n",
       "      <td>{'admin': False, 'push': False, 'pull': True}</td>\n",
       "    </tr>\n",
       "    <tr>\n",
       "      <th>1</th>\n",
       "      <td>306353976</td>\n",
       "      <td>MDEwOlJlcG9zaXRvcnkzMDYzNTM5NzY=</td>\n",
       "      <td>datamad1020-rev</td>\n",
       "      <td>sonia-quintanar/datamad1020-rev</td>\n",
       "      <td>False</td>\n",
       "      <td>{'login': 'sonia-quintanar', 'id': 68594878, '...</td>\n",
       "      <td>https://github.com/sonia-quintanar/datamad1020...</td>\n",
       "      <td>None</td>\n",
       "      <td>True</td>\n",
       "      <td>https://api.github.com/repos/sonia-quintanar/d...</td>\n",
       "      <td>...</td>\n",
       "      <td>None</td>\n",
       "      <td>False</td>\n",
       "      <td>False</td>\n",
       "      <td>0</td>\n",
       "      <td>{'key': 'agpl-3.0', 'name': 'GNU Affero Genera...</td>\n",
       "      <td>0</td>\n",
       "      <td>0</td>\n",
       "      <td>0</td>\n",
       "      <td>master</td>\n",
       "      <td>{'admin': False, 'push': False, 'pull': True}</td>\n",
       "    </tr>\n",
       "    <tr>\n",
       "      <th>2</th>\n",
       "      <td>305694744</td>\n",
       "      <td>MDEwOlJlcG9zaXRvcnkzMDU2OTQ3NDQ=</td>\n",
       "      <td>datamad1020-rev</td>\n",
       "      <td>jperezllorente/datamad1020-rev</td>\n",
       "      <td>False</td>\n",
       "      <td>{'login': 'jperezllorente', 'id': 70518395, 'n...</td>\n",
       "      <td>https://github.com/jperezllorente/datamad1020-rev</td>\n",
       "      <td>None</td>\n",
       "      <td>True</td>\n",
       "      <td>https://api.github.com/repos/jperezllorente/da...</td>\n",
       "      <td>...</td>\n",
       "      <td>None</td>\n",
       "      <td>False</td>\n",
       "      <td>False</td>\n",
       "      <td>0</td>\n",
       "      <td>{'key': 'agpl-3.0', 'name': 'GNU Affero Genera...</td>\n",
       "      <td>0</td>\n",
       "      <td>0</td>\n",
       "      <td>0</td>\n",
       "      <td>master</td>\n",
       "      <td>{'admin': False, 'push': False, 'pull': True}</td>\n",
       "    </tr>\n",
       "    <tr>\n",
       "      <th>3</th>\n",
       "      <td>305439178</td>\n",
       "      <td>MDEwOlJlcG9zaXRvcnkzMDU0MzkxNzg=</td>\n",
       "      <td>datamad1020-rev</td>\n",
       "      <td>AnaMA96/datamad1020-rev</td>\n",
       "      <td>False</td>\n",
       "      <td>{'login': 'AnaMA96', 'id': 60754286, 'node_id'...</td>\n",
       "      <td>https://github.com/AnaMA96/datamad1020-rev</td>\n",
       "      <td>None</td>\n",
       "      <td>True</td>\n",
       "      <td>https://api.github.com/repos/AnaMA96/datamad10...</td>\n",
       "      <td>...</td>\n",
       "      <td>None</td>\n",
       "      <td>False</td>\n",
       "      <td>False</td>\n",
       "      <td>0</td>\n",
       "      <td>{'key': 'agpl-3.0', 'name': 'GNU Affero Genera...</td>\n",
       "      <td>0</td>\n",
       "      <td>0</td>\n",
       "      <td>0</td>\n",
       "      <td>master</td>\n",
       "      <td>{'admin': False, 'push': False, 'pull': True}</td>\n",
       "    </tr>\n",
       "    <tr>\n",
       "      <th>4</th>\n",
       "      <td>305422717</td>\n",
       "      <td>MDEwOlJlcG9zaXRvcnkzMDU0MjI3MTc=</td>\n",
       "      <td>datamad1020-rev</td>\n",
       "      <td>breogann/datamad1020-rev</td>\n",
       "      <td>False</td>\n",
       "      <td>{'login': 'breogann', 'id': 54676992, 'node_id...</td>\n",
       "      <td>https://github.com/breogann/datamad1020-rev</td>\n",
       "      <td>None</td>\n",
       "      <td>True</td>\n",
       "      <td>https://api.github.com/repos/breogann/datamad1...</td>\n",
       "      <td>...</td>\n",
       "      <td>None</td>\n",
       "      <td>False</td>\n",
       "      <td>False</td>\n",
       "      <td>0</td>\n",
       "      <td>{'key': 'agpl-3.0', 'name': 'GNU Affero Genera...</td>\n",
       "      <td>0</td>\n",
       "      <td>0</td>\n",
       "      <td>1</td>\n",
       "      <td>master</td>\n",
       "      <td>{'admin': False, 'push': False, 'pull': True}</td>\n",
       "    </tr>\n",
       "  </tbody>\n",
       "</table>\n",
       "<p>5 rows × 74 columns</p>\n",
       "</div>"
      ],
      "text/plain": [
       "          id                           node_id             name  \\\n",
       "0  315459070  MDEwOlJlcG9zaXRvcnkzMTU0NTkwNzA=  datamad1020-rev   \n",
       "1  306353976  MDEwOlJlcG9zaXRvcnkzMDYzNTM5NzY=  datamad1020-rev   \n",
       "2  305694744  MDEwOlJlcG9zaXRvcnkzMDU2OTQ3NDQ=  datamad1020-rev   \n",
       "3  305439178  MDEwOlJlcG9zaXRvcnkzMDU0MzkxNzg=  datamad1020-rev   \n",
       "4  305422717  MDEwOlJlcG9zaXRvcnkzMDU0MjI3MTc=  datamad1020-rev   \n",
       "\n",
       "                                 full_name  private  \\\n",
       "0  VictorRodriguezIronhack/datamad1020-rev    False   \n",
       "1          sonia-quintanar/datamad1020-rev    False   \n",
       "2           jperezllorente/datamad1020-rev    False   \n",
       "3                  AnaMA96/datamad1020-rev    False   \n",
       "4                 breogann/datamad1020-rev    False   \n",
       "\n",
       "                                               owner  \\\n",
       "0  {'login': 'VictorRodriguezIronhack', 'id': 576...   \n",
       "1  {'login': 'sonia-quintanar', 'id': 68594878, '...   \n",
       "2  {'login': 'jperezllorente', 'id': 70518395, 'n...   \n",
       "3  {'login': 'AnaMA96', 'id': 60754286, 'node_id'...   \n",
       "4  {'login': 'breogann', 'id': 54676992, 'node_id...   \n",
       "\n",
       "                                            html_url description  fork  \\\n",
       "0  https://github.com/VictorRodriguezIronhack/dat...        None  True   \n",
       "1  https://github.com/sonia-quintanar/datamad1020...        None  True   \n",
       "2  https://github.com/jperezllorente/datamad1020-rev        None  True   \n",
       "3         https://github.com/AnaMA96/datamad1020-rev        None  True   \n",
       "4        https://github.com/breogann/datamad1020-rev        None  True   \n",
       "\n",
       "                                                 url  ... mirror_url archived  \\\n",
       "0  https://api.github.com/repos/VictorRodriguezIr...  ...       None    False   \n",
       "1  https://api.github.com/repos/sonia-quintanar/d...  ...       None    False   \n",
       "2  https://api.github.com/repos/jperezllorente/da...  ...       None    False   \n",
       "3  https://api.github.com/repos/AnaMA96/datamad10...  ...       None    False   \n",
       "4  https://api.github.com/repos/breogann/datamad1...  ...       None    False   \n",
       "\n",
       "  disabled open_issues_count  \\\n",
       "0    False                 0   \n",
       "1    False                 0   \n",
       "2    False                 0   \n",
       "3    False                 0   \n",
       "4    False                 0   \n",
       "\n",
       "                                             license forks open_issues  \\\n",
       "0  {'key': 'agpl-3.0', 'name': 'GNU Affero Genera...     0           0   \n",
       "1  {'key': 'agpl-3.0', 'name': 'GNU Affero Genera...     0           0   \n",
       "2  {'key': 'agpl-3.0', 'name': 'GNU Affero Genera...     0           0   \n",
       "3  {'key': 'agpl-3.0', 'name': 'GNU Affero Genera...     0           0   \n",
       "4  {'key': 'agpl-3.0', 'name': 'GNU Affero Genera...     0           0   \n",
       "\n",
       "  watchers default_branch                                    permissions  \n",
       "0        0         master  {'admin': False, 'push': False, 'pull': True}  \n",
       "1        0         master  {'admin': False, 'push': False, 'pull': True}  \n",
       "2        0         master  {'admin': False, 'push': False, 'pull': True}  \n",
       "3        0         master  {'admin': False, 'push': False, 'pull': True}  \n",
       "4        1         master  {'admin': False, 'push': False, 'pull': True}  \n",
       "\n",
       "[5 rows x 74 columns]"
      ]
     },
     "execution_count": 169,
     "metadata": {},
     "output_type": "execute_result"
    }
   ],
   "source": [
    "#probando opciones...\n",
    "df = pd.DataFrame(data)\n",
    "df.head()"
   ]
  },
  {
   "cell_type": "code",
   "execution_count": 170,
   "metadata": {},
   "outputs": [
    {
     "name": "stdout",
     "output_type": "stream",
     "text": [
      "{'Jupyter Notebook'}\n"
     ]
    }
   ],
   "source": [
    "languages = []\n",
    "for l in df[\"language\"]:\n",
    "    languages.append(lang)\n",
    "print(set(languages))"
   ]
  },
  {
   "cell_type": "markdown",
   "metadata": {},
   "source": [
    "## Challenge 2: Count Commits\n",
    "\n",
    "Count how many commits were made in the past week.\n",
    "\n",
    "Obtain all the commits made in the past week via API, which is a JSON array that contains multiple commit objects.\n",
    "\n",
    "Count how many commit objects are contained in the array.\n",
    "\n"
   ]
  },
  {
   "cell_type": "markdown",
   "metadata": {},
   "source": [
    "⚠️ **Remember to limit your output before submission**."
   ]
  },
  {
   "cell_type": "code",
   "execution_count": 163,
   "metadata": {},
   "outputs": [],
   "source": [
    "token = open(\"../token.txt\").readlines()[0]"
   ]
  },
  {
   "cell_type": "code",
   "execution_count": 164,
   "metadata": {},
   "outputs": [],
   "source": [
    "token = token.strip()"
   ]
  },
  {
   "cell_type": "code",
   "execution_count": 165,
   "metadata": {},
   "outputs": [],
   "source": [
    "params = {\n",
    "        \"Authorization\": f\"token {token}\"}"
   ]
  },
  {
   "cell_type": "code",
   "execution_count": 183,
   "metadata": {},
   "outputs": [],
   "source": [
    "url2 = \"https://api.github.com/repos/ironhack-datalabs/datamad1020-rev/commits\""
   ]
  },
  {
   "cell_type": "code",
   "execution_count": 184,
   "metadata": {},
   "outputs": [],
   "source": [
    "response2 = requests.get(url2, headers=params)"
   ]
  },
  {
   "cell_type": "code",
   "execution_count": 210,
   "metadata": {},
   "outputs": [
    {
     "data": {
      "text/plain": [
       "200"
      ]
     },
     "execution_count": 210,
     "metadata": {},
     "output_type": "execute_result"
    }
   ],
   "source": [
    "response2.status_code"
   ]
  },
  {
   "cell_type": "code",
   "execution_count": 211,
   "metadata": {},
   "outputs": [],
   "source": [
    "data2 = response2.json()"
   ]
  },
  {
   "cell_type": "code",
   "execution_count": 212,
   "metadata": {},
   "outputs": [
    {
     "name": "stdout",
     "output_type": "stream",
     "text": [
      "{'sha': '62ccb107c540872cb332b10768b890040fb50c1f', 'node_id': 'MDY6Q29tbWl0MzA0MjQ4NTM5OjYyY2NiMTA3YzU0MDg3MmNiMzMyYjEwNzY4Yjg5MDA0MGZiNTBjMWY=', 'commit': {'author': {'name': 'Ras Soyungalgo', 'email': 'agalvezcorell@gmail.com', 'date': '2021-01-26T13:00:09Z'}, 'committer': {'name': 'Ras Soyungalgo', 'email': 'agalvezcorell@gmail.com', 'date': '2021-01-26T13:00:09Z'}, 'message': 'edito challenge1 sin cambios, solo comment', 'tree': {'sha': '1fb3ebfb5f65d6ec77ea4b1666b95f5e6e09ac63', 'url': 'https://api.github.com/repos/ironhack-datalabs/datamad1020-rev/git/trees/1fb3ebfb5f65d6ec77ea4b1666b95f5e6e09ac63'}, 'url': 'https://api.github.com/repos/ironhack-datalabs/datamad1020-rev/git/commits/62ccb107c540872cb332b10768b890040fb50c1f', 'comment_count': 0, 'verification': {'verified': False, 'reason': 'unsigned', 'signature': None, 'payload': None}}, 'url': 'https://api.github.com/repos/ironhack-datalabs/datamad1020-rev/commits/62ccb107c540872cb332b10768b890040fb50c1f', 'html_url': 'https://github.com/ironhack-datalabs/datamad1020-rev/commit/62ccb107c540872cb332b10768b890040fb50c1f', 'comments_url': 'https://api.github.com/repos/ironhack-datalabs/datamad1020-rev/commits/62ccb107c540872cb332b10768b890040fb50c1f/comments', 'author': {'login': 'agalvezcorell', 'id': 57899051, 'node_id': 'MDQ6VXNlcjU3ODk5MDUx', 'avatar_url': 'https://avatars.githubusercontent.com/u/57899051?v=4', 'gravatar_id': '', 'url': 'https://api.github.com/users/agalvezcorell', 'html_url': 'https://github.com/agalvezcorell', 'followers_url': 'https://api.github.com/users/agalvezcorell/followers', 'following_url': 'https://api.github.com/users/agalvezcorell/following{/other_user}', 'gists_url': 'https://api.github.com/users/agalvezcorell/gists{/gist_id}', 'starred_url': 'https://api.github.com/users/agalvezcorell/starred{/owner}{/repo}', 'subscriptions_url': 'https://api.github.com/users/agalvezcorell/subscriptions', 'organizations_url': 'https://api.github.com/users/agalvezcorell/orgs', 'repos_url': 'https://api.github.com/users/agalvezcorell/repos', 'events_url': 'https://api.github.com/users/agalvezcorell/events{/privacy}', 'received_events_url': 'https://api.github.com/users/agalvezcorell/received_events', 'type': 'User', 'site_admin': False}, 'committer': {'login': 'agalvezcorell', 'id': 57899051, 'node_id': 'MDQ6VXNlcjU3ODk5MDUx', 'avatar_url': 'https://avatars.githubusercontent.com/u/57899051?v=4', 'gravatar_id': '', 'url': 'https://api.github.com/users/agalvezcorell', 'html_url': 'https://github.com/agalvezcorell', 'followers_url': 'https://api.github.com/users/agalvezcorell/followers', 'following_url': 'https://api.github.com/users/agalvezcorell/following{/other_user}', 'gists_url': 'https://api.github.com/users/agalvezcorell/gists{/gist_id}', 'starred_url': 'https://api.github.com/users/agalvezcorell/starred{/owner}{/repo}', 'subscriptions_url': 'https://api.github.com/users/agalvezcorell/subscriptions', 'organizations_url': 'https://api.github.com/users/agalvezcorell/orgs', 'repos_url': 'https://api.github.com/users/agalvezcorell/repos', 'events_url': 'https://api.github.com/users/agalvezcorell/events{/privacy}', 'received_events_url': 'https://api.github.com/users/agalvezcorell/received_events', 'type': 'User', 'site_admin': False}, 'parents': [{'sha': 'f3a48ac39f43cb8130695180360f5644eeefd309', 'url': 'https://api.github.com/repos/ironhack-datalabs/datamad1020-rev/commits/f3a48ac39f43cb8130695180360f5644eeefd309', 'html_url': 'https://github.com/ironhack-datalabs/datamad1020-rev/commit/f3a48ac39f43cb8130695180360f5644eeefd309'}]}\n"
     ]
    }
   ],
   "source": [
    "print(data2[0])"
   ]
  },
  {
   "cell_type": "code",
   "execution_count": 140,
   "metadata": {},
   "outputs": [],
   "source": [
    "c = data2[0]"
   ]
  },
  {
   "cell_type": "code",
   "execution_count": 141,
   "metadata": {},
   "outputs": [
    {
     "data": {
      "text/plain": [
       "dict_keys(['sha', 'node_id', 'commit', 'url', 'html_url', 'comments_url', 'author', 'committer', 'parents'])"
      ]
     },
     "execution_count": 141,
     "metadata": {},
     "output_type": "execute_result"
    }
   ],
   "source": [
    "c.keys()"
   ]
  },
  {
   "cell_type": "code",
   "execution_count": 142,
   "metadata": {},
   "outputs": [
    {
     "data": {
      "text/plain": [
       "30"
      ]
     },
     "execution_count": 142,
     "metadata": {},
     "output_type": "execute_result"
    }
   ],
   "source": [
    "#En total hay 30\n",
    "len(data)"
   ]
  },
  {
   "cell_type": "code",
   "execution_count": 143,
   "metadata": {},
   "outputs": [],
   "source": [
    "def extrae_commit(dictionary):\n",
    "    # devuelve el value de la key name del dict\n",
    "    return dictionary.get(\"commit\")"
   ]
  },
  {
   "cell_type": "code",
   "execution_count": 145,
   "metadata": {},
   "outputs": [
    {
     "data": {
      "text/plain": [
       "{'author': {'name': '“breogann”',\n",
       "  'email': 'fernandocostapradillo@gmail.com',\n",
       "  'date': '2020-12-07T14:44:17Z'},\n",
       " 'committer': {'name': '“breogann”',\n",
       "  'email': 'fernandocostapradillo@gmail.com',\n",
       "  'date': '2020-12-07T14:44:17Z'},\n",
       " 'message': 'ignore checkpoints recursively',\n",
       " 'tree': {'sha': 'b241cabf6c74341d96269d0d86ad9c1c875c5464',\n",
       "  'url': 'https://api.github.com/repos/ironhack-datalabs/datamad1020-rev/git/trees/b241cabf6c74341d96269d0d86ad9c1c875c5464'},\n",
       " 'url': 'https://api.github.com/repos/ironhack-datalabs/datamad1020-rev/git/commits/f3a48ac39f43cb8130695180360f5644eeefd309',\n",
       " 'comment_count': 0,\n",
       " 'verification': {'verified': False,\n",
       "  'reason': 'unsigned',\n",
       "  'signature': None,\n",
       "  'payload': None}}"
      ]
     },
     "execution_count": 145,
     "metadata": {},
     "output_type": "execute_result"
    }
   ],
   "source": [
    "d = extrae_commit(data[1])\n",
    "d"
   ]
  },
  {
   "cell_type": "code",
   "execution_count": 174,
   "metadata": {
    "scrolled": false
   },
   "outputs": [
    {
     "data": {
      "text/html": [
       "<div>\n",
       "<style scoped>\n",
       "    .dataframe tbody tr th:only-of-type {\n",
       "        vertical-align: middle;\n",
       "    }\n",
       "\n",
       "    .dataframe tbody tr th {\n",
       "        vertical-align: top;\n",
       "    }\n",
       "\n",
       "    .dataframe thead th {\n",
       "        text-align: right;\n",
       "    }\n",
       "</style>\n",
       "<table border=\"1\" class=\"dataframe\">\n",
       "  <thead>\n",
       "    <tr style=\"text-align: right;\">\n",
       "      <th></th>\n",
       "      <th>sha</th>\n",
       "      <th>node_id</th>\n",
       "      <th>commit</th>\n",
       "      <th>url</th>\n",
       "      <th>html_url</th>\n",
       "      <th>comments_url</th>\n",
       "      <th>author</th>\n",
       "      <th>committer</th>\n",
       "      <th>parents</th>\n",
       "    </tr>\n",
       "  </thead>\n",
       "  <tbody>\n",
       "    <tr>\n",
       "      <th>0</th>\n",
       "      <td>62ccb107c540872cb332b10768b890040fb50c1f</td>\n",
       "      <td>MDY6Q29tbWl0MzA0MjQ4NTM5OjYyY2NiMTA3YzU0MDg3Mm...</td>\n",
       "      <td>{'author': {'name': 'Ras Soyungalgo', 'email':...</td>\n",
       "      <td>https://api.github.com/repos/ironhack-datalabs...</td>\n",
       "      <td>https://github.com/ironhack-datalabs/datamad10...</td>\n",
       "      <td>https://api.github.com/repos/ironhack-datalabs...</td>\n",
       "      <td>{'login': 'agalvezcorell', 'id': 57899051, 'no...</td>\n",
       "      <td>{'login': 'agalvezcorell', 'id': 57899051, 'no...</td>\n",
       "      <td>[{'sha': 'f3a48ac39f43cb8130695180360f5644eeef...</td>\n",
       "    </tr>\n",
       "    <tr>\n",
       "      <th>1</th>\n",
       "      <td>f3a48ac39f43cb8130695180360f5644eeefd309</td>\n",
       "      <td>MDY6Q29tbWl0MzA0MjQ4NTM5OmYzYTQ4YWMzOWY0M2NiOD...</td>\n",
       "      <td>{'author': {'name': '“breogann”', 'email': 'fe...</td>\n",
       "      <td>https://api.github.com/repos/ironhack-datalabs...</td>\n",
       "      <td>https://github.com/ironhack-datalabs/datamad10...</td>\n",
       "      <td>https://api.github.com/repos/ironhack-datalabs...</td>\n",
       "      <td>{'login': 'breogann', 'id': 54676992, 'node_id...</td>\n",
       "      <td>{'login': 'breogann', 'id': 54676992, 'node_id...</td>\n",
       "      <td>[{'sha': 'ef275bdbc37bb650f1457ada8304be91ac24...</td>\n",
       "    </tr>\n",
       "    <tr>\n",
       "      <th>2</th>\n",
       "      <td>ef275bdbc37bb650f1457ada8304be91ac24933f</td>\n",
       "      <td>MDY6Q29tbWl0MzA0MjQ4NTM5OmVmMjc1YmRiYzM3YmI2NT...</td>\n",
       "      <td>{'author': {'name': 'Ras Soyungalgo', 'email':...</td>\n",
       "      <td>https://api.github.com/repos/ironhack-datalabs...</td>\n",
       "      <td>https://github.com/ironhack-datalabs/datamad10...</td>\n",
       "      <td>https://api.github.com/repos/ironhack-datalabs...</td>\n",
       "      <td>{'login': 'agalvezcorell', 'id': 57899051, 'no...</td>\n",
       "      <td>{'login': 'agalvezcorell', 'id': 57899051, 'no...</td>\n",
       "      <td>[{'sha': '718f44fc5724de35b3dcca095dbab043b0d8...</td>\n",
       "    </tr>\n",
       "    <tr>\n",
       "      <th>3</th>\n",
       "      <td>718f44fc5724de35b3dcca095dbab043b0d861a4</td>\n",
       "      <td>MDY6Q29tbWl0MzA0MjQ4NTM5OjcxOGY0NGZjNTcyNGRlMz...</td>\n",
       "      <td>{'author': {'name': 'Ras Soyungalgo', 'email':...</td>\n",
       "      <td>https://api.github.com/repos/ironhack-datalabs...</td>\n",
       "      <td>https://github.com/ironhack-datalabs/datamad10...</td>\n",
       "      <td>https://api.github.com/repos/ironhack-datalabs...</td>\n",
       "      <td>{'login': 'agalvezcorell', 'id': 57899051, 'no...</td>\n",
       "      <td>{'login': 'agalvezcorell', 'id': 57899051, 'no...</td>\n",
       "      <td>[{'sha': 'dfc28b1b3304d39425e4125f1a22ee6faffd...</td>\n",
       "    </tr>\n",
       "    <tr>\n",
       "      <th>4</th>\n",
       "      <td>dfc28b1b3304d39425e4125f1a22ee6faffda18e</td>\n",
       "      <td>MDY6Q29tbWl0MzA0MjQ4NTM5OmRmYzI4YjFiMzMwNGQzOT...</td>\n",
       "      <td>{'author': {'name': 'sheriffff', 'email': 'man...</td>\n",
       "      <td>https://api.github.com/repos/ironhack-datalabs...</td>\n",
       "      <td>https://github.com/ironhack-datalabs/datamad10...</td>\n",
       "      <td>https://api.github.com/repos/ironhack-datalabs...</td>\n",
       "      <td>{'login': 'sheriffff', 'id': 23318929, 'node_i...</td>\n",
       "      <td>{'login': 'sheriffff', 'id': 23318929, 'node_i...</td>\n",
       "      <td>[{'sha': '5c04532891061620385b72f1456c5988aebb...</td>\n",
       "    </tr>\n",
       "  </tbody>\n",
       "</table>\n",
       "</div>"
      ],
      "text/plain": [
       "                                        sha  \\\n",
       "0  62ccb107c540872cb332b10768b890040fb50c1f   \n",
       "1  f3a48ac39f43cb8130695180360f5644eeefd309   \n",
       "2  ef275bdbc37bb650f1457ada8304be91ac24933f   \n",
       "3  718f44fc5724de35b3dcca095dbab043b0d861a4   \n",
       "4  dfc28b1b3304d39425e4125f1a22ee6faffda18e   \n",
       "\n",
       "                                             node_id  \\\n",
       "0  MDY6Q29tbWl0MzA0MjQ4NTM5OjYyY2NiMTA3YzU0MDg3Mm...   \n",
       "1  MDY6Q29tbWl0MzA0MjQ4NTM5OmYzYTQ4YWMzOWY0M2NiOD...   \n",
       "2  MDY6Q29tbWl0MzA0MjQ4NTM5OmVmMjc1YmRiYzM3YmI2NT...   \n",
       "3  MDY6Q29tbWl0MzA0MjQ4NTM5OjcxOGY0NGZjNTcyNGRlMz...   \n",
       "4  MDY6Q29tbWl0MzA0MjQ4NTM5OmRmYzI4YjFiMzMwNGQzOT...   \n",
       "\n",
       "                                              commit  \\\n",
       "0  {'author': {'name': 'Ras Soyungalgo', 'email':...   \n",
       "1  {'author': {'name': '“breogann”', 'email': 'fe...   \n",
       "2  {'author': {'name': 'Ras Soyungalgo', 'email':...   \n",
       "3  {'author': {'name': 'Ras Soyungalgo', 'email':...   \n",
       "4  {'author': {'name': 'sheriffff', 'email': 'man...   \n",
       "\n",
       "                                                 url  \\\n",
       "0  https://api.github.com/repos/ironhack-datalabs...   \n",
       "1  https://api.github.com/repos/ironhack-datalabs...   \n",
       "2  https://api.github.com/repos/ironhack-datalabs...   \n",
       "3  https://api.github.com/repos/ironhack-datalabs...   \n",
       "4  https://api.github.com/repos/ironhack-datalabs...   \n",
       "\n",
       "                                            html_url  \\\n",
       "0  https://github.com/ironhack-datalabs/datamad10...   \n",
       "1  https://github.com/ironhack-datalabs/datamad10...   \n",
       "2  https://github.com/ironhack-datalabs/datamad10...   \n",
       "3  https://github.com/ironhack-datalabs/datamad10...   \n",
       "4  https://github.com/ironhack-datalabs/datamad10...   \n",
       "\n",
       "                                        comments_url  \\\n",
       "0  https://api.github.com/repos/ironhack-datalabs...   \n",
       "1  https://api.github.com/repos/ironhack-datalabs...   \n",
       "2  https://api.github.com/repos/ironhack-datalabs...   \n",
       "3  https://api.github.com/repos/ironhack-datalabs...   \n",
       "4  https://api.github.com/repos/ironhack-datalabs...   \n",
       "\n",
       "                                              author  \\\n",
       "0  {'login': 'agalvezcorell', 'id': 57899051, 'no...   \n",
       "1  {'login': 'breogann', 'id': 54676992, 'node_id...   \n",
       "2  {'login': 'agalvezcorell', 'id': 57899051, 'no...   \n",
       "3  {'login': 'agalvezcorell', 'id': 57899051, 'no...   \n",
       "4  {'login': 'sheriffff', 'id': 23318929, 'node_i...   \n",
       "\n",
       "                                           committer  \\\n",
       "0  {'login': 'agalvezcorell', 'id': 57899051, 'no...   \n",
       "1  {'login': 'breogann', 'id': 54676992, 'node_id...   \n",
       "2  {'login': 'agalvezcorell', 'id': 57899051, 'no...   \n",
       "3  {'login': 'agalvezcorell', 'id': 57899051, 'no...   \n",
       "4  {'login': 'sheriffff', 'id': 23318929, 'node_i...   \n",
       "\n",
       "                                             parents  \n",
       "0  [{'sha': 'f3a48ac39f43cb8130695180360f5644eeef...  \n",
       "1  [{'sha': 'ef275bdbc37bb650f1457ada8304be91ac24...  \n",
       "2  [{'sha': '718f44fc5724de35b3dcca095dbab043b0d8...  \n",
       "3  [{'sha': 'dfc28b1b3304d39425e4125f1a22ee6faffd...  \n",
       "4  [{'sha': '5c04532891061620385b72f1456c5988aebb...  "
      ]
     },
     "execution_count": 174,
     "metadata": {},
     "output_type": "execute_result"
    }
   ],
   "source": [
    "df = pd.DataFrame(data2)\n",
    "df.head()"
   ]
  },
  {
   "cell_type": "code",
   "execution_count": 180,
   "metadata": {},
   "outputs": [
    {
     "data": {
      "text/plain": [
       "Index(['sha', 'node_id', 'commit', 'url', 'html_url', 'comments_url', 'author',\n",
       "       'committer', 'parents'],\n",
       "      dtype='object')"
      ]
     },
     "execution_count": 180,
     "metadata": {},
     "output_type": "execute_result"
    }
   ],
   "source": [
    "df.columns"
   ]
  },
  {
   "cell_type": "code",
   "execution_count": 181,
   "metadata": {},
   "outputs": [
    {
     "data": {
      "text/plain": [
       "{'author': {'name': 'Ras Soyungalgo',\n",
       "  'email': 'agalvezcorell@gmail.com',\n",
       "  'date': '2021-01-26T13:00:09Z'},\n",
       " 'committer': {'name': 'Ras Soyungalgo',\n",
       "  'email': 'agalvezcorell@gmail.com',\n",
       "  'date': '2021-01-26T13:00:09Z'},\n",
       " 'message': 'edito challenge1 sin cambios, solo comment',\n",
       " 'tree': {'sha': '1fb3ebfb5f65d6ec77ea4b1666b95f5e6e09ac63',\n",
       "  'url': 'https://api.github.com/repos/ironhack-datalabs/datamad1020-rev/git/trees/1fb3ebfb5f65d6ec77ea4b1666b95f5e6e09ac63'},\n",
       " 'url': 'https://api.github.com/repos/ironhack-datalabs/datamad1020-rev/git/commits/62ccb107c540872cb332b10768b890040fb50c1f',\n",
       " 'comment_count': 0,\n",
       " 'verification': {'verified': False,\n",
       "  'reason': 'unsigned',\n",
       "  'signature': None,\n",
       "  'payload': None}}"
      ]
     },
     "execution_count": 181,
     "metadata": {},
     "output_type": "execute_result"
    }
   ],
   "source": [
    "df.commit.iloc[0]"
   ]
  },
  {
   "cell_type": "code",
   "execution_count": 182,
   "metadata": {},
   "outputs": [],
   "source": [
    "#No consigo llegar a los Dates!!!!\n",
    "df.commit.iloc[0].get(\"date\")"
   ]
  },
  {
   "cell_type": "code",
   "execution_count": null,
   "metadata": {},
   "outputs": [],
   "source": [
    "# Example: print(variable[:10]) "
   ]
  },
  {
   "cell_type": "markdown",
   "metadata": {},
   "source": [
    "## Challenge 3: Hidden Cold Joke\n",
    "\n",
    "Using Python, call Github API to find out the cold joke contained in the 24 secret files in the following repo:\n",
    "\n",
    "https://github.com/ironhack-datalabs/scavenger\n",
    "\n",
    "The filenames of the secret files contain .scavengerhunt and they are scattered in different directories of this repo. The secret files are named from .0001.scavengerhunt to .0024.scavengerhunt. They are scattered randomly throughout this repo. You need to search for these files by calling the Github API, not searching the local files on your computer.\n",
    "\n",
    "\n",
    "After you find out the secrete files:\n",
    "\n",
    "Sort the filenames ascendingly.\n",
    "\n",
    "Read the content of each secret files into an array of strings.\n",
    "\n",
    "Concatenate the strings in the array separating each two with a whitespace.\n",
    "\n",
    "Print out the joke.\n"
   ]
  },
  {
   "cell_type": "markdown",
   "metadata": {},
   "source": [
    "⚠️ **Remember to limit your output before submission**."
   ]
  },
  {
   "cell_type": "code",
   "execution_count": 202,
   "metadata": {},
   "outputs": [],
   "source": [
    "token = open(\"../token.txt\").readlines()[0]"
   ]
  },
  {
   "cell_type": "code",
   "execution_count": 203,
   "metadata": {},
   "outputs": [],
   "source": [
    "token = token.strip()"
   ]
  },
  {
   "cell_type": "code",
   "execution_count": 204,
   "metadata": {},
   "outputs": [],
   "source": [
    "params = {\n",
    "        \"Authorization\": f\"token {token}\"}"
   ]
  },
  {
   "cell_type": "code",
   "execution_count": 205,
   "metadata": {},
   "outputs": [],
   "source": [
    "url3 = \"https://github.com/ironhack-datalabs/scavenger\""
   ]
  },
  {
   "cell_type": "code",
   "execution_count": 206,
   "metadata": {},
   "outputs": [],
   "source": [
    "response3 = requests.get(url3, headers=params)"
   ]
  },
  {
   "cell_type": "code",
   "execution_count": 207,
   "metadata": {},
   "outputs": [
    {
     "data": {
      "text/plain": [
       "200"
      ]
     },
     "execution_count": 207,
     "metadata": {},
     "output_type": "execute_result"
    }
   ],
   "source": [
    "response3.status_code"
   ]
  },
  {
   "cell_type": "code",
   "execution_count": 208,
   "metadata": {},
   "outputs": [
    {
     "ename": "JSONDecodeError",
     "evalue": "Expecting value: line 7 column 1 (char 6)",
     "output_type": "error",
     "traceback": [
      "\u001b[1;31m---------------------------------------------------------------------------\u001b[0m",
      "\u001b[1;31mJSONDecodeError\u001b[0m                           Traceback (most recent call last)",
      "\u001b[1;32m<ipython-input-208-ae6c29f8a65b>\u001b[0m in \u001b[0;36m<module>\u001b[1;34m\u001b[0m\n\u001b[1;32m----> 1\u001b[1;33m \u001b[0mdata3\u001b[0m \u001b[1;33m=\u001b[0m \u001b[0mresponse3\u001b[0m\u001b[1;33m.\u001b[0m\u001b[0mjson\u001b[0m\u001b[1;33m(\u001b[0m\u001b[1;33m)\u001b[0m\u001b[1;33m\u001b[0m\u001b[1;33m\u001b[0m\u001b[0m\n\u001b[0m",
      "\u001b[1;32mc:\\users\\mdiez\\anaconda\\envs\\ironhack\\lib\\site-packages\\requests\\models.py\u001b[0m in \u001b[0;36mjson\u001b[1;34m(self, **kwargs)\u001b[0m\n\u001b[0;32m    898\u001b[0m                     \u001b[1;31m# used.\u001b[0m\u001b[1;33m\u001b[0m\u001b[1;33m\u001b[0m\u001b[1;33m\u001b[0m\u001b[0m\n\u001b[0;32m    899\u001b[0m                     \u001b[1;32mpass\u001b[0m\u001b[1;33m\u001b[0m\u001b[1;33m\u001b[0m\u001b[0m\n\u001b[1;32m--> 900\u001b[1;33m         \u001b[1;32mreturn\u001b[0m \u001b[0mcomplexjson\u001b[0m\u001b[1;33m.\u001b[0m\u001b[0mloads\u001b[0m\u001b[1;33m(\u001b[0m\u001b[0mself\u001b[0m\u001b[1;33m.\u001b[0m\u001b[0mtext\u001b[0m\u001b[1;33m,\u001b[0m \u001b[1;33m**\u001b[0m\u001b[0mkwargs\u001b[0m\u001b[1;33m)\u001b[0m\u001b[1;33m\u001b[0m\u001b[1;33m\u001b[0m\u001b[0m\n\u001b[0m\u001b[0;32m    901\u001b[0m \u001b[1;33m\u001b[0m\u001b[0m\n\u001b[0;32m    902\u001b[0m     \u001b[1;33m@\u001b[0m\u001b[0mproperty\u001b[0m\u001b[1;33m\u001b[0m\u001b[1;33m\u001b[0m\u001b[0m\n",
      "\u001b[1;32mc:\\users\\mdiez\\anaconda\\envs\\ironhack\\lib\\json\\__init__.py\u001b[0m in \u001b[0;36mloads\u001b[1;34m(s, cls, object_hook, parse_float, parse_int, parse_constant, object_pairs_hook, **kw)\u001b[0m\n\u001b[0;32m    355\u001b[0m             \u001b[0mparse_int\u001b[0m \u001b[1;32mis\u001b[0m \u001b[1;32mNone\u001b[0m \u001b[1;32mand\u001b[0m \u001b[0mparse_float\u001b[0m \u001b[1;32mis\u001b[0m \u001b[1;32mNone\u001b[0m \u001b[1;32mand\u001b[0m\u001b[1;33m\u001b[0m\u001b[1;33m\u001b[0m\u001b[0m\n\u001b[0;32m    356\u001b[0m             parse_constant is None and object_pairs_hook is None and not kw):\n\u001b[1;32m--> 357\u001b[1;33m         \u001b[1;32mreturn\u001b[0m \u001b[0m_default_decoder\u001b[0m\u001b[1;33m.\u001b[0m\u001b[0mdecode\u001b[0m\u001b[1;33m(\u001b[0m\u001b[0ms\u001b[0m\u001b[1;33m)\u001b[0m\u001b[1;33m\u001b[0m\u001b[1;33m\u001b[0m\u001b[0m\n\u001b[0m\u001b[0;32m    358\u001b[0m     \u001b[1;32mif\u001b[0m \u001b[0mcls\u001b[0m \u001b[1;32mis\u001b[0m \u001b[1;32mNone\u001b[0m\u001b[1;33m:\u001b[0m\u001b[1;33m\u001b[0m\u001b[1;33m\u001b[0m\u001b[0m\n\u001b[0;32m    359\u001b[0m         \u001b[0mcls\u001b[0m \u001b[1;33m=\u001b[0m \u001b[0mJSONDecoder\u001b[0m\u001b[1;33m\u001b[0m\u001b[1;33m\u001b[0m\u001b[0m\n",
      "\u001b[1;32mc:\\users\\mdiez\\anaconda\\envs\\ironhack\\lib\\json\\decoder.py\u001b[0m in \u001b[0;36mdecode\u001b[1;34m(self, s, _w)\u001b[0m\n\u001b[0;32m    335\u001b[0m \u001b[1;33m\u001b[0m\u001b[0m\n\u001b[0;32m    336\u001b[0m         \"\"\"\n\u001b[1;32m--> 337\u001b[1;33m         \u001b[0mobj\u001b[0m\u001b[1;33m,\u001b[0m \u001b[0mend\u001b[0m \u001b[1;33m=\u001b[0m \u001b[0mself\u001b[0m\u001b[1;33m.\u001b[0m\u001b[0mraw_decode\u001b[0m\u001b[1;33m(\u001b[0m\u001b[0ms\u001b[0m\u001b[1;33m,\u001b[0m \u001b[0midx\u001b[0m\u001b[1;33m=\u001b[0m\u001b[0m_w\u001b[0m\u001b[1;33m(\u001b[0m\u001b[0ms\u001b[0m\u001b[1;33m,\u001b[0m \u001b[1;36m0\u001b[0m\u001b[1;33m)\u001b[0m\u001b[1;33m.\u001b[0m\u001b[0mend\u001b[0m\u001b[1;33m(\u001b[0m\u001b[1;33m)\u001b[0m\u001b[1;33m)\u001b[0m\u001b[1;33m\u001b[0m\u001b[1;33m\u001b[0m\u001b[0m\n\u001b[0m\u001b[0;32m    338\u001b[0m         \u001b[0mend\u001b[0m \u001b[1;33m=\u001b[0m \u001b[0m_w\u001b[0m\u001b[1;33m(\u001b[0m\u001b[0ms\u001b[0m\u001b[1;33m,\u001b[0m \u001b[0mend\u001b[0m\u001b[1;33m)\u001b[0m\u001b[1;33m.\u001b[0m\u001b[0mend\u001b[0m\u001b[1;33m(\u001b[0m\u001b[1;33m)\u001b[0m\u001b[1;33m\u001b[0m\u001b[1;33m\u001b[0m\u001b[0m\n\u001b[0;32m    339\u001b[0m         \u001b[1;32mif\u001b[0m \u001b[0mend\u001b[0m \u001b[1;33m!=\u001b[0m \u001b[0mlen\u001b[0m\u001b[1;33m(\u001b[0m\u001b[0ms\u001b[0m\u001b[1;33m)\u001b[0m\u001b[1;33m:\u001b[0m\u001b[1;33m\u001b[0m\u001b[1;33m\u001b[0m\u001b[0m\n",
      "\u001b[1;32mc:\\users\\mdiez\\anaconda\\envs\\ironhack\\lib\\json\\decoder.py\u001b[0m in \u001b[0;36mraw_decode\u001b[1;34m(self, s, idx)\u001b[0m\n\u001b[0;32m    353\u001b[0m             \u001b[0mobj\u001b[0m\u001b[1;33m,\u001b[0m \u001b[0mend\u001b[0m \u001b[1;33m=\u001b[0m \u001b[0mself\u001b[0m\u001b[1;33m.\u001b[0m\u001b[0mscan_once\u001b[0m\u001b[1;33m(\u001b[0m\u001b[0ms\u001b[0m\u001b[1;33m,\u001b[0m \u001b[0midx\u001b[0m\u001b[1;33m)\u001b[0m\u001b[1;33m\u001b[0m\u001b[1;33m\u001b[0m\u001b[0m\n\u001b[0;32m    354\u001b[0m         \u001b[1;32mexcept\u001b[0m \u001b[0mStopIteration\u001b[0m \u001b[1;32mas\u001b[0m \u001b[0merr\u001b[0m\u001b[1;33m:\u001b[0m\u001b[1;33m\u001b[0m\u001b[1;33m\u001b[0m\u001b[0m\n\u001b[1;32m--> 355\u001b[1;33m             \u001b[1;32mraise\u001b[0m \u001b[0mJSONDecodeError\u001b[0m\u001b[1;33m(\u001b[0m\u001b[1;34m\"Expecting value\"\u001b[0m\u001b[1;33m,\u001b[0m \u001b[0ms\u001b[0m\u001b[1;33m,\u001b[0m \u001b[0merr\u001b[0m\u001b[1;33m.\u001b[0m\u001b[0mvalue\u001b[0m\u001b[1;33m)\u001b[0m \u001b[1;32mfrom\u001b[0m \u001b[1;32mNone\u001b[0m\u001b[1;33m\u001b[0m\u001b[1;33m\u001b[0m\u001b[0m\n\u001b[0m\u001b[0;32m    356\u001b[0m         \u001b[1;32mreturn\u001b[0m \u001b[0mobj\u001b[0m\u001b[1;33m,\u001b[0m \u001b[0mend\u001b[0m\u001b[1;33m\u001b[0m\u001b[1;33m\u001b[0m\u001b[0m\n",
      "\u001b[1;31mJSONDecodeError\u001b[0m: Expecting value: line 7 column 1 (char 6)"
     ]
    }
   ],
   "source": [
    "data3 = response3.json()"
   ]
  },
  {
   "cell_type": "code",
   "execution_count": 213,
   "metadata": {},
   "outputs": [
    {
     "name": "stdout",
     "output_type": "stream",
     "text": [
      "{'sha': '62ccb107c540872cb332b10768b890040fb50c1f', 'node_id': 'MDY6Q29tbWl0MzA0MjQ4NTM5OjYyY2NiMTA3YzU0MDg3MmNiMzMyYjEwNzY4Yjg5MDA0MGZiNTBjMWY=', 'commit': {'author': {'name': 'Ras Soyungalgo', 'email': 'agalvezcorell@gmail.com', 'date': '2021-01-26T13:00:09Z'}, 'committer': {'name': 'Ras Soyungalgo', 'email': 'agalvezcorell@gmail.com', 'date': '2021-01-26T13:00:09Z'}, 'message': 'edito challenge1 sin cambios, solo comment', 'tree': {'sha': '1fb3ebfb5f65d6ec77ea4b1666b95f5e6e09ac63', 'url': 'https://api.github.com/repos/ironhack-datalabs/datamad1020-rev/git/trees/1fb3ebfb5f65d6ec77ea4b1666b95f5e6e09ac63'}, 'url': 'https://api.github.com/repos/ironhack-datalabs/datamad1020-rev/git/commits/62ccb107c540872cb332b10768b890040fb50c1f', 'comment_count': 0, 'verification': {'verified': False, 'reason': 'unsigned', 'signature': None, 'payload': None}}, 'url': 'https://api.github.com/repos/ironhack-datalabs/datamad1020-rev/commits/62ccb107c540872cb332b10768b890040fb50c1f', 'html_url': 'https://github.com/ironhack-datalabs/datamad1020-rev/commit/62ccb107c540872cb332b10768b890040fb50c1f', 'comments_url': 'https://api.github.com/repos/ironhack-datalabs/datamad1020-rev/commits/62ccb107c540872cb332b10768b890040fb50c1f/comments', 'author': {'login': 'agalvezcorell', 'id': 57899051, 'node_id': 'MDQ6VXNlcjU3ODk5MDUx', 'avatar_url': 'https://avatars.githubusercontent.com/u/57899051?v=4', 'gravatar_id': '', 'url': 'https://api.github.com/users/agalvezcorell', 'html_url': 'https://github.com/agalvezcorell', 'followers_url': 'https://api.github.com/users/agalvezcorell/followers', 'following_url': 'https://api.github.com/users/agalvezcorell/following{/other_user}', 'gists_url': 'https://api.github.com/users/agalvezcorell/gists{/gist_id}', 'starred_url': 'https://api.github.com/users/agalvezcorell/starred{/owner}{/repo}', 'subscriptions_url': 'https://api.github.com/users/agalvezcorell/subscriptions', 'organizations_url': 'https://api.github.com/users/agalvezcorell/orgs', 'repos_url': 'https://api.github.com/users/agalvezcorell/repos', 'events_url': 'https://api.github.com/users/agalvezcorell/events{/privacy}', 'received_events_url': 'https://api.github.com/users/agalvezcorell/received_events', 'type': 'User', 'site_admin': False}, 'committer': {'login': 'agalvezcorell', 'id': 57899051, 'node_id': 'MDQ6VXNlcjU3ODk5MDUx', 'avatar_url': 'https://avatars.githubusercontent.com/u/57899051?v=4', 'gravatar_id': '', 'url': 'https://api.github.com/users/agalvezcorell', 'html_url': 'https://github.com/agalvezcorell', 'followers_url': 'https://api.github.com/users/agalvezcorell/followers', 'following_url': 'https://api.github.com/users/agalvezcorell/following{/other_user}', 'gists_url': 'https://api.github.com/users/agalvezcorell/gists{/gist_id}', 'starred_url': 'https://api.github.com/users/agalvezcorell/starred{/owner}{/repo}', 'subscriptions_url': 'https://api.github.com/users/agalvezcorell/subscriptions', 'organizations_url': 'https://api.github.com/users/agalvezcorell/orgs', 'repos_url': 'https://api.github.com/users/agalvezcorell/repos', 'events_url': 'https://api.github.com/users/agalvezcorell/events{/privacy}', 'received_events_url': 'https://api.github.com/users/agalvezcorell/received_events', 'type': 'User', 'site_admin': False}, 'parents': [{'sha': 'f3a48ac39f43cb8130695180360f5644eeefd309', 'url': 'https://api.github.com/repos/ironhack-datalabs/datamad1020-rev/commits/f3a48ac39f43cb8130695180360f5644eeefd309', 'html_url': 'https://github.com/ironhack-datalabs/datamad1020-rev/commit/f3a48ac39f43cb8130695180360f5644eeefd309'}]}\n"
     ]
    }
   ],
   "source": [
    "print(data3[0])"
   ]
  },
  {
   "cell_type": "code",
   "execution_count": null,
   "metadata": {},
   "outputs": [],
   "source": [
    "# Your code"
   ]
  },
  {
   "cell_type": "code",
   "execution_count": null,
   "metadata": {},
   "outputs": [],
   "source": []
  },
  {
   "cell_type": "code",
   "execution_count": null,
   "metadata": {},
   "outputs": [],
   "source": []
  },
  {
   "cell_type": "code",
   "execution_count": null,
   "metadata": {},
   "outputs": [],
   "source": [
    "# Example: print(variable[:10]) "
   ]
  }
 ],
 "metadata": {
  "kernelspec": {
   "display_name": "Python 3",
   "language": "python",
   "name": "python3"
  },
  "language_info": {
   "codemirror_mode": {
    "name": "ipython",
    "version": 3
   },
   "file_extension": ".py",
   "mimetype": "text/x-python",
   "name": "python",
   "nbconvert_exporter": "python",
   "pygments_lexer": "ipython3",
   "version": "3.8.5"
  }
 },
 "nbformat": 4,
 "nbformat_minor": 2
}
