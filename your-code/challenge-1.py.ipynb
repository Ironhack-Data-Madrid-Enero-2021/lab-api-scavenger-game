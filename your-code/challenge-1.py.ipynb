{
 "cells": [
  {
   "cell_type": "code",
   "execution_count": 9,
   "metadata": {},
   "outputs": [],
   "source": [
    "import json\n",
    "import os\n",
    "import requests\n",
    "import pandas as pd"
   ]
  },
  {
   "cell_type": "code",
   "execution_count": 5,
   "metadata": {},
   "outputs": [],
   "source": [
    "#from dotenv import load_dotenv\n",
    "#load_dotenv()"
   ]
  },
  {
   "cell_type": "markdown",
   "metadata": {},
   "source": [
    "## Challenge 1: Fork Languages\n",
    "\n",
    "You will find out how many programming languages are used among all the forks created from the main lab repo of your bootcamp. Assuming the main lab repo is ironhack-datalabs/datamad1020-rev, you will:\n",
    "\n",
    "1. Obtain the full list of forks created from the main lab repo via Github API.\n",
    "\n",
    "2. Loop the JSON response to find out the language attribute of each fork. Use an array to store the language attributes of each fork.\n",
    "\n",
    "Hint: Each language should appear only once in your array.\n",
    "\n",
    "3. Print the language array. It should be something like:\n",
    "\n",
    "[\"Python\", \"Jupyter Notebook\", \"HTML\"]\n"
   ]
  },
  {
   "cell_type": "markdown",
   "metadata": {},
   "source": [
    "**HINT:**: Create a list with every **language_url** you find in every fork "
   ]
  },
  {
   "cell_type": "markdown",
   "metadata": {},
   "source": [
    "⚠️ **Remember to limit your output before submission**."
   ]
  },
  {
   "cell_type": "code",
   "execution_count": 23,
   "metadata": {},
   "outputs": [],
   "source": [
    "#Your code\n",
    "token = open (\"../token.txt\").readlines()[0]\n",
    "token = token.strip()\n",
    "params = {\n",
    "        \"Authorization\": f\"token {token}\"}\n",
    "url = \"https://api.github.com/repos/ironhack-datalabs/datamad1020/forks\"\n",
    "\n",
    "response = requests.get(url, headers=params)"
   ]
  },
  {
   "cell_type": "code",
   "execution_count": 24,
   "metadata": {},
   "outputs": [
    {
     "data": {
      "text/plain": [
       "200"
      ]
     },
     "execution_count": 24,
     "metadata": {},
     "output_type": "execute_result"
    }
   ],
   "source": [
    "response.status_code"
   ]
  },
  {
   "cell_type": "code",
   "execution_count": 25,
   "metadata": {
    "scrolled": true
   },
   "outputs": [
    {
     "data": {
      "text/plain": [
       "{'Date': 'Tue, 26 Jan 2021 17:17:22 GMT', 'Content-Type': 'application/json; charset=utf-8', 'Transfer-Encoding': 'chunked', 'Server': 'GitHub.com', 'Status': '200 OK', 'Cache-Control': 'private, max-age=60, s-maxage=60', 'Vary': 'Accept, Authorization, Cookie, X-GitHub-OTP, Accept-Encoding, Accept, X-Requested-With, Accept-Encoding', 'ETag': 'W/\"860b8f092ea1741e6c76c12fd25f9892f49c41f5f255edcbf9f9d17c87c919a0\"', 'X-OAuth-Scopes': 'repo', 'X-Accepted-OAuth-Scopes': '', 'X-GitHub-Media-Type': 'github.v3; format=json', 'X-RateLimit-Limit': '5000', 'X-RateLimit-Remaining': '4999', 'X-RateLimit-Reset': '1611685042', 'x-ratelimit-used': '1', 'Access-Control-Expose-Headers': 'ETag, Link, Location, Retry-After, X-GitHub-OTP, X-RateLimit-Limit, X-RateLimit-Remaining, X-RateLimit-Used, X-RateLimit-Reset, X-OAuth-Scopes, X-Accepted-OAuth-Scopes, X-Poll-Interval, X-GitHub-Media-Type, Deprecation, Sunset', 'Access-Control-Allow-Origin': '*', 'Strict-Transport-Security': 'max-age=31536000; includeSubdomains; preload', 'X-Frame-Options': 'deny', 'X-Content-Type-Options': 'nosniff', 'X-XSS-Protection': '1; mode=block', 'Referrer-Policy': 'origin-when-cross-origin, strict-origin-when-cross-origin', 'Content-Security-Policy': \"default-src 'none'\", 'Content-Encoding': 'gzip', 'X-GitHub-Request-Id': 'C24C:FA23:34DCC4:3A5A7A:60104EA1'}"
      ]
     },
     "execution_count": 25,
     "metadata": {},
     "output_type": "execute_result"
    }
   ],
   "source": [
    "response.headers"
   ]
  },
  {
   "cell_type": "code",
   "execution_count": 29,
   "metadata": {},
   "outputs": [],
   "source": [
    "data=response.json()"
   ]
  },
  {
   "cell_type": "code",
   "execution_count": 30,
   "metadata": {},
   "outputs": [
    {
     "data": {
      "text/plain": [
       "list"
      ]
     },
     "execution_count": 30,
     "metadata": {},
     "output_type": "execute_result"
    }
   ],
   "source": [
    "type(data)"
   ]
  },
  {
   "cell_type": "code",
   "execution_count": 35,
   "metadata": {},
   "outputs": [
    {
     "data": {
      "text/plain": [
       "{'id': 310635890,\n",
       " 'node_id': 'MDEwOlJlcG9zaXRvcnkzMTA2MzU4OTA=',\n",
       " 'name': 'datamad1020',\n",
       " 'full_name': 'adrianacoca/datamad1020',\n",
       " 'private': False,\n",
       " 'owner': {'login': 'adrianacoca',\n",
       "  'id': 65229646,\n",
       "  'node_id': 'MDQ6VXNlcjY1MjI5NjQ2',\n",
       "  'avatar_url': 'https://avatars.githubusercontent.com/u/65229646?v=4',\n",
       "  'gravatar_id': '',\n",
       "  'url': 'https://api.github.com/users/adrianacoca',\n",
       "  'html_url': 'https://github.com/adrianacoca',\n",
       "  'followers_url': 'https://api.github.com/users/adrianacoca/followers',\n",
       "  'following_url': 'https://api.github.com/users/adrianacoca/following{/other_user}',\n",
       "  'gists_url': 'https://api.github.com/users/adrianacoca/gists{/gist_id}',\n",
       "  'starred_url': 'https://api.github.com/users/adrianacoca/starred{/owner}{/repo}',\n",
       "  'subscriptions_url': 'https://api.github.com/users/adrianacoca/subscriptions',\n",
       "  'organizations_url': 'https://api.github.com/users/adrianacoca/orgs',\n",
       "  'repos_url': 'https://api.github.com/users/adrianacoca/repos',\n",
       "  'events_url': 'https://api.github.com/users/adrianacoca/events{/privacy}',\n",
       "  'received_events_url': 'https://api.github.com/users/adrianacoca/received_events',\n",
       "  'type': 'User',\n",
       "  'site_admin': False},\n",
       " 'html_url': 'https://github.com/adrianacoca/datamad1020',\n",
       " 'description': 'exercises for datamad1020 bootcamp @ Ironhack Madrid',\n",
       " 'fork': True,\n",
       " 'url': 'https://api.github.com/repos/adrianacoca/datamad1020',\n",
       " 'forks_url': 'https://api.github.com/repos/adrianacoca/datamad1020/forks',\n",
       " 'keys_url': 'https://api.github.com/repos/adrianacoca/datamad1020/keys{/key_id}',\n",
       " 'collaborators_url': 'https://api.github.com/repos/adrianacoca/datamad1020/collaborators{/collaborator}',\n",
       " 'teams_url': 'https://api.github.com/repos/adrianacoca/datamad1020/teams',\n",
       " 'hooks_url': 'https://api.github.com/repos/adrianacoca/datamad1020/hooks',\n",
       " 'issue_events_url': 'https://api.github.com/repos/adrianacoca/datamad1020/issues/events{/number}',\n",
       " 'events_url': 'https://api.github.com/repos/adrianacoca/datamad1020/events',\n",
       " 'assignees_url': 'https://api.github.com/repos/adrianacoca/datamad1020/assignees{/user}',\n",
       " 'branches_url': 'https://api.github.com/repos/adrianacoca/datamad1020/branches{/branch}',\n",
       " 'tags_url': 'https://api.github.com/repos/adrianacoca/datamad1020/tags',\n",
       " 'blobs_url': 'https://api.github.com/repos/adrianacoca/datamad1020/git/blobs{/sha}',\n",
       " 'git_tags_url': 'https://api.github.com/repos/adrianacoca/datamad1020/git/tags{/sha}',\n",
       " 'git_refs_url': 'https://api.github.com/repos/adrianacoca/datamad1020/git/refs{/sha}',\n",
       " 'trees_url': 'https://api.github.com/repos/adrianacoca/datamad1020/git/trees{/sha}',\n",
       " 'statuses_url': 'https://api.github.com/repos/adrianacoca/datamad1020/statuses/{sha}',\n",
       " 'languages_url': 'https://api.github.com/repos/adrianacoca/datamad1020/languages',\n",
       " 'stargazers_url': 'https://api.github.com/repos/adrianacoca/datamad1020/stargazers',\n",
       " 'contributors_url': 'https://api.github.com/repos/adrianacoca/datamad1020/contributors',\n",
       " 'subscribers_url': 'https://api.github.com/repos/adrianacoca/datamad1020/subscribers',\n",
       " 'subscription_url': 'https://api.github.com/repos/adrianacoca/datamad1020/subscription',\n",
       " 'commits_url': 'https://api.github.com/repos/adrianacoca/datamad1020/commits{/sha}',\n",
       " 'git_commits_url': 'https://api.github.com/repos/adrianacoca/datamad1020/git/commits{/sha}',\n",
       " 'comments_url': 'https://api.github.com/repos/adrianacoca/datamad1020/comments{/number}',\n",
       " 'issue_comment_url': 'https://api.github.com/repos/adrianacoca/datamad1020/issues/comments{/number}',\n",
       " 'contents_url': 'https://api.github.com/repos/adrianacoca/datamad1020/contents/{+path}',\n",
       " 'compare_url': 'https://api.github.com/repos/adrianacoca/datamad1020/compare/{base}...{head}',\n",
       " 'merges_url': 'https://api.github.com/repos/adrianacoca/datamad1020/merges',\n",
       " 'archive_url': 'https://api.github.com/repos/adrianacoca/datamad1020/{archive_format}{/ref}',\n",
       " 'downloads_url': 'https://api.github.com/repos/adrianacoca/datamad1020/downloads',\n",
       " 'issues_url': 'https://api.github.com/repos/adrianacoca/datamad1020/issues{/number}',\n",
       " 'pulls_url': 'https://api.github.com/repos/adrianacoca/datamad1020/pulls{/number}',\n",
       " 'milestones_url': 'https://api.github.com/repos/adrianacoca/datamad1020/milestones{/number}',\n",
       " 'notifications_url': 'https://api.github.com/repos/adrianacoca/datamad1020/notifications{?since,all,participating}',\n",
       " 'labels_url': 'https://api.github.com/repos/adrianacoca/datamad1020/labels{/name}',\n",
       " 'releases_url': 'https://api.github.com/repos/adrianacoca/datamad1020/releases{/id}',\n",
       " 'deployments_url': 'https://api.github.com/repos/adrianacoca/datamad1020/deployments',\n",
       " 'created_at': '2020-11-06T15:34:37Z',\n",
       " 'updated_at': '2020-11-06T15:34:38Z',\n",
       " 'pushed_at': '2020-11-06T09:00:30Z',\n",
       " 'git_url': 'git://github.com/adrianacoca/datamad1020.git',\n",
       " 'ssh_url': 'git@github.com:adrianacoca/datamad1020.git',\n",
       " 'clone_url': 'https://github.com/adrianacoca/datamad1020.git',\n",
       " 'svn_url': 'https://github.com/adrianacoca/datamad1020',\n",
       " 'homepage': None,\n",
       " 'size': 162944,\n",
       " 'stargazers_count': 0,\n",
       " 'watchers_count': 0,\n",
       " 'language': None,\n",
       " 'has_issues': False,\n",
       " 'has_projects': True,\n",
       " 'has_downloads': True,\n",
       " 'has_wiki': True,\n",
       " 'has_pages': False,\n",
       " 'forks_count': 0,\n",
       " 'mirror_url': None,\n",
       " 'archived': False,\n",
       " 'disabled': False,\n",
       " 'open_issues_count': 0,\n",
       " 'license': {'key': 'agpl-3.0',\n",
       "  'name': 'GNU Affero General Public License v3.0',\n",
       "  'spdx_id': 'AGPL-3.0',\n",
       "  'url': 'https://api.github.com/licenses/agpl-3.0',\n",
       "  'node_id': 'MDc6TGljZW5zZTE='},\n",
       " 'forks': 0,\n",
       " 'open_issues': 0,\n",
       " 'watchers': 0,\n",
       " 'default_branch': 'master',\n",
       " 'permissions': {'admin': False, 'push': False, 'pull': True}}"
      ]
     },
     "execution_count": 35,
     "metadata": {},
     "output_type": "execute_result"
    }
   ],
   "source": [
    "data[0]"
   ]
  },
  {
   "cell_type": "code",
   "execution_count": 39,
   "metadata": {},
   "outputs": [
    {
     "name": "stdout",
     "output_type": "stream",
     "text": [
      "[None, 'Jupyter Notebook', 'Jupyter Notebook', None, 'Jupyter Notebook', 'Jupyter Notebook', 'Jupyter Notebook', 'Jupyter Notebook', 'Jupyter Notebook', 'Jupyter Notebook']\n"
     ]
    }
   ],
   "source": [
    "langs=[i[\"language\"] for i in data]\n",
    "print(langs[:10])"
   ]
  },
  {
   "cell_type": "markdown",
   "metadata": {},
   "source": [
    "## Challenge 2: Count Commits\n",
    "\n",
    "Count how many commits were made in the past week.\n",
    "\n",
    "Obtain all the commits made in the past week via API, which is a JSON array that contains multiple commit objects.\n",
    "\n",
    "Count how many commit objects are contained in the array.\n",
    "\n"
   ]
  },
  {
   "cell_type": "markdown",
   "metadata": {},
   "source": [
    "⚠️ **Remember to limit your output before submission**."
   ]
  },
  {
   "cell_type": "code",
   "execution_count": 52,
   "metadata": {},
   "outputs": [],
   "source": [
    "#Your code\n",
    "url = \"https://api.github.com/repos/ironhack-datalabs/datamad1020-rev/commits\"\n",
    "\n",
    "response = requests.get(url, headers=params)"
   ]
  },
  {
   "cell_type": "code",
   "execution_count": 53,
   "metadata": {},
   "outputs": [
    {
     "data": {
      "text/plain": [
       "200"
      ]
     },
     "execution_count": 53,
     "metadata": {},
     "output_type": "execute_result"
    }
   ],
   "source": [
    "response.status_code"
   ]
  },
  {
   "cell_type": "code",
   "execution_count": 54,
   "metadata": {},
   "outputs": [
    {
     "data": {
      "text/plain": [
       "list"
      ]
     },
     "execution_count": 54,
     "metadata": {},
     "output_type": "execute_result"
    }
   ],
   "source": [
    "data=response.json()\n",
    "type(data)"
   ]
  },
  {
   "cell_type": "code",
   "execution_count": 55,
   "metadata": {},
   "outputs": [
    {
     "data": {
      "text/plain": [
       "30"
      ]
     },
     "execution_count": 55,
     "metadata": {},
     "output_type": "execute_result"
    }
   ],
   "source": [
    "len(data)"
   ]
  },
  {
   "cell_type": "code",
   "execution_count": 56,
   "metadata": {},
   "outputs": [
    {
     "data": {
      "text/plain": [
       "{'sha': '62ccb107c540872cb332b10768b890040fb50c1f',\n",
       " 'node_id': 'MDY6Q29tbWl0MzA0MjQ4NTM5OjYyY2NiMTA3YzU0MDg3MmNiMzMyYjEwNzY4Yjg5MDA0MGZiNTBjMWY=',\n",
       " 'commit': {'author': {'name': 'Ras Soyungalgo',\n",
       "   'email': 'agalvezcorell@gmail.com',\n",
       "   'date': '2021-01-26T13:00:09Z'},\n",
       "  'committer': {'name': 'Ras Soyungalgo',\n",
       "   'email': 'agalvezcorell@gmail.com',\n",
       "   'date': '2021-01-26T13:00:09Z'},\n",
       "  'message': 'edito challenge1 sin cambios, solo comment',\n",
       "  'tree': {'sha': '1fb3ebfb5f65d6ec77ea4b1666b95f5e6e09ac63',\n",
       "   'url': 'https://api.github.com/repos/ironhack-datalabs/datamad1020-rev/git/trees/1fb3ebfb5f65d6ec77ea4b1666b95f5e6e09ac63'},\n",
       "  'url': 'https://api.github.com/repos/ironhack-datalabs/datamad1020-rev/git/commits/62ccb107c540872cb332b10768b890040fb50c1f',\n",
       "  'comment_count': 0,\n",
       "  'verification': {'verified': False,\n",
       "   'reason': 'unsigned',\n",
       "   'signature': None,\n",
       "   'payload': None}},\n",
       " 'url': 'https://api.github.com/repos/ironhack-datalabs/datamad1020-rev/commits/62ccb107c540872cb332b10768b890040fb50c1f',\n",
       " 'html_url': 'https://github.com/ironhack-datalabs/datamad1020-rev/commit/62ccb107c540872cb332b10768b890040fb50c1f',\n",
       " 'comments_url': 'https://api.github.com/repos/ironhack-datalabs/datamad1020-rev/commits/62ccb107c540872cb332b10768b890040fb50c1f/comments',\n",
       " 'author': {'login': 'agalvezcorell',\n",
       "  'id': 57899051,\n",
       "  'node_id': 'MDQ6VXNlcjU3ODk5MDUx',\n",
       "  'avatar_url': 'https://avatars.githubusercontent.com/u/57899051?v=4',\n",
       "  'gravatar_id': '',\n",
       "  'url': 'https://api.github.com/users/agalvezcorell',\n",
       "  'html_url': 'https://github.com/agalvezcorell',\n",
       "  'followers_url': 'https://api.github.com/users/agalvezcorell/followers',\n",
       "  'following_url': 'https://api.github.com/users/agalvezcorell/following{/other_user}',\n",
       "  'gists_url': 'https://api.github.com/users/agalvezcorell/gists{/gist_id}',\n",
       "  'starred_url': 'https://api.github.com/users/agalvezcorell/starred{/owner}{/repo}',\n",
       "  'subscriptions_url': 'https://api.github.com/users/agalvezcorell/subscriptions',\n",
       "  'organizations_url': 'https://api.github.com/users/agalvezcorell/orgs',\n",
       "  'repos_url': 'https://api.github.com/users/agalvezcorell/repos',\n",
       "  'events_url': 'https://api.github.com/users/agalvezcorell/events{/privacy}',\n",
       "  'received_events_url': 'https://api.github.com/users/agalvezcorell/received_events',\n",
       "  'type': 'User',\n",
       "  'site_admin': False},\n",
       " 'committer': {'login': 'agalvezcorell',\n",
       "  'id': 57899051,\n",
       "  'node_id': 'MDQ6VXNlcjU3ODk5MDUx',\n",
       "  'avatar_url': 'https://avatars.githubusercontent.com/u/57899051?v=4',\n",
       "  'gravatar_id': '',\n",
       "  'url': 'https://api.github.com/users/agalvezcorell',\n",
       "  'html_url': 'https://github.com/agalvezcorell',\n",
       "  'followers_url': 'https://api.github.com/users/agalvezcorell/followers',\n",
       "  'following_url': 'https://api.github.com/users/agalvezcorell/following{/other_user}',\n",
       "  'gists_url': 'https://api.github.com/users/agalvezcorell/gists{/gist_id}',\n",
       "  'starred_url': 'https://api.github.com/users/agalvezcorell/starred{/owner}{/repo}',\n",
       "  'subscriptions_url': 'https://api.github.com/users/agalvezcorell/subscriptions',\n",
       "  'organizations_url': 'https://api.github.com/users/agalvezcorell/orgs',\n",
       "  'repos_url': 'https://api.github.com/users/agalvezcorell/repos',\n",
       "  'events_url': 'https://api.github.com/users/agalvezcorell/events{/privacy}',\n",
       "  'received_events_url': 'https://api.github.com/users/agalvezcorell/received_events',\n",
       "  'type': 'User',\n",
       "  'site_admin': False},\n",
       " 'parents': [{'sha': 'f3a48ac39f43cb8130695180360f5644eeefd309',\n",
       "   'url': 'https://api.github.com/repos/ironhack-datalabs/datamad1020-rev/commits/f3a48ac39f43cb8130695180360f5644eeefd309',\n",
       "   'html_url': 'https://github.com/ironhack-datalabs/datamad1020-rev/commit/f3a48ac39f43cb8130695180360f5644eeefd309'}]}"
      ]
     },
     "execution_count": 56,
     "metadata": {},
     "output_type": "execute_result"
    }
   ],
   "source": [
    "data[0]"
   ]
  },
  {
   "cell_type": "code",
   "execution_count": 63,
   "metadata": {},
   "outputs": [
    {
     "data": {
      "text/plain": [
       "['2021-01-26T13:00:09Z',\n",
       " '2020-12-07T14:44:17Z',\n",
       " '2020-11-27T15:11:12Z',\n",
       " '2020-11-27T14:53:46Z',\n",
       " '2020-11-27T09:47:17Z',\n",
       " '2020-11-27T09:41:29Z',\n",
       " '2020-11-12T23:27:48Z',\n",
       " '2020-11-12T23:22:51Z',\n",
       " '2020-11-12T18:26:54Z',\n",
       " '2020-11-10T19:19:52Z',\n",
       " '2020-11-10T19:19:49Z',\n",
       " '2020-11-10T08:28:18Z',\n",
       " '2020-11-06T10:03:48Z',\n",
       " '2020-11-06T10:02:37Z',\n",
       " '2020-11-05T23:04:53Z',\n",
       " '2020-11-05T23:02:33Z',\n",
       " '2020-11-04T19:04:32Z',\n",
       " '2020-11-02T16:47:51Z',\n",
       " '2020-10-30T09:29:13Z',\n",
       " '2020-10-30T09:23:03Z',\n",
       " '2020-10-30T09:22:04Z',\n",
       " '2020-10-29T15:59:33Z',\n",
       " '2020-10-29T15:59:17Z',\n",
       " '2020-10-29T14:57:00Z',\n",
       " '2020-10-29T14:56:29Z',\n",
       " '2020-10-29T14:54:12Z',\n",
       " '2020-10-28T21:06:17Z',\n",
       " '2020-10-28T20:57:04Z',\n",
       " '2020-10-28T17:22:27Z',\n",
       " '2020-10-25T19:26:34Z']"
      ]
     },
     "execution_count": 63,
     "metadata": {},
     "output_type": "execute_result"
    }
   ],
   "source": [
    "list_authors=[i[\"commit\"] for i in data]\n",
    "author=[i[\"author\"] for i in list_authors]\n",
    "date_lists=[i[\"date\"] for i in author]\n",
    "date_lists"
   ]
  },
  {
   "cell_type": "code",
   "execution_count": 73,
   "metadata": {},
   "outputs": [
    {
     "name": "stdout",
     "output_type": "stream",
     "text": [
      "2021-01-26 00:00:00\n",
      "Last week commits:  1\n"
     ]
    }
   ],
   "source": [
    "from datetime import datetime, timedelta\n",
    "hoy= \"26/01/2021\"\n",
    "hoy = datetime.strptime(hoy, \"%d/%m/%Y\")\n",
    "last_week = hoy - timedelta(7)\n",
    "counter=0\n",
    "for i in date_lists:\n",
    "    fecha = datetime.strptime( i[:10], \"%Y-%m-%d\" )\n",
    "    if fecha > last_week:\n",
    "        counter+=1\n",
    "        print(fecha)\n",
    "        \n",
    "print(\"Last week commits: \", counter)"
   ]
  },
  {
   "cell_type": "code",
   "execution_count": null,
   "metadata": {},
   "outputs": [],
   "source": [
    "# Example: print(variable[:10]) "
   ]
  },
  {
   "cell_type": "markdown",
   "metadata": {},
   "source": [
    "## Challenge 3: Hidden Cold Joke\n",
    "\n",
    "Using Python, call Github API to find out the cold joke contained in the 24 secret files in the following repo:\n",
    "\n",
    "https://github.com/ironhack-datalabs/scavenger\n",
    "\n",
    "The filenames of the secret files contain .scavengerhunt and they are scattered in different directories of this repo. The secret files are named from .0001.scavengerhunt to .0024.scavengerhunt. They are scattered randomly throughout this repo. You need to search for these files by calling the Github API, not searching the local files on your computer.\n",
    "\n",
    "\n",
    "After you find out the secrete files:\n",
    "\n",
    "Sort the filenames ascendingly.\n",
    "\n",
    "Read the content of each secret files into an array of strings.\n",
    "\n",
    "Concatenate the strings in the array separating each two with a whitespace.\n",
    "\n",
    "Print out the joke.\n"
   ]
  },
  {
   "cell_type": "markdown",
   "metadata": {},
   "source": [
    "⚠️ **Remember to limit your output before submission**."
   ]
  },
  {
   "cell_type": "code",
   "execution_count": null,
   "metadata": {},
   "outputs": [],
   "source": [
    "# Your code"
   ]
  },
  {
   "cell_type": "code",
   "execution_count": null,
   "metadata": {},
   "outputs": [],
   "source": [
    "# Example: print(variable[:10]) "
   ]
  }
 ],
 "metadata": {
  "kernelspec": {
   "display_name": "Python 3",
   "language": "python",
   "name": "python3"
  },
  "language_info": {
   "codemirror_mode": {
    "name": "ipython",
    "version": 3
   },
   "file_extension": ".py",
   "mimetype": "text/x-python",
   "name": "python",
   "nbconvert_exporter": "python",
   "pygments_lexer": "ipython3",
   "version": "3.8.5"
  }
 },
 "nbformat": 4,
 "nbformat_minor": 2
}
